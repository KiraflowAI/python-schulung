{
 "cells": [
  {
   "cell_type": "markdown",
   "id": "b80f6f41",
   "metadata": {},
   "source": [
    "Im folgenden liegt uns eine Bücherliste names bookstore als csv-Datei vor. Diese beinhaltet gebrauchte Bücher mit entsprechend dazu kennzeichnenden Eigenschaften.\n",
    "\n",
    "Die describe() Methode gibt uns die wichtigsten statistischen Kennzahlen aller numerischen Spalten eines DataFrames aus. Optisch ähnelt die Ausgabe auch einem DataFrame."
   ]
  },
  {
   "cell_type": "markdown",
   "id": "1d8b6a95",
   "metadata": {},
   "source": [
    "Aufgabe 1: DATENTYP ÜBERPRÜFEN\n",
    "\n",
    "Überprüfe zunächst mithilfe der type() Funktion ob die describe() Methode tatsächlich ein DataFrame ist, oder es nur so wirkt. Falls es ein anderer Datentyp ist: Welcher ist es?"
   ]
  },
  {
   "cell_type": "markdown",
   "id": "142e1676",
   "metadata": {},
   "source": [
    "Der Datentyp einer Variable lässt sich überprüfen, indem die Variable der type() Funktion übergeben wird. Hier erhalten wir die Ausgabe <pandas.core.frame.DataFrame> und sehen damit, dass es sich um einen DataFrame handelt."
   ]
  },
  {
   "cell_type": "code",
   "execution_count": 1,
   "id": "452f54b4",
   "metadata": {},
   "outputs": [
    {
     "name": "stdout",
     "output_type": "stream",
     "text": [
      "<class 'pandas.core.frame.DataFrame'>\n"
     ]
    }
   ],
   "source": [
    "import pandas as pd\n",
    "\n",
    "df = pd.read_csv(\"bookstore.csv\")\n",
    "\n",
    "# Datentyp überprüfen\n",
    "print(type(df.describe()))\n"
   ]
  },
  {
   "cell_type": "code",
   "execution_count": null,
   "id": "c84733b3",
   "metadata": {},
   "outputs": [
    {
     "data": {
      "text/html": [
       "<div>\n",
       "<style scoped>\n",
       "    .dataframe tbody tr th:only-of-type {\n",
       "        vertical-align: middle;\n",
       "    }\n",
       "\n",
       "    .dataframe tbody tr th {\n",
       "        vertical-align: top;\n",
       "    }\n",
       "\n",
       "    .dataframe thead th {\n",
       "        text-align: right;\n",
       "    }\n",
       "</style>\n",
       "<table border=\"1\" class=\"dataframe\">\n",
       "  <thead>\n",
       "    <tr style=\"text-align: right;\">\n",
       "      <th></th>\n",
       "      <th>Publication Year</th>\n",
       "      <th>List Price</th>\n",
       "      <th>Sale Price</th>\n",
       "    </tr>\n",
       "  </thead>\n",
       "  <tbody>\n",
       "    <tr>\n",
       "      <th>count</th>\n",
       "      <td>30.00000</td>\n",
       "      <td>30.000000</td>\n",
       "      <td>30.000000</td>\n",
       "    </tr>\n",
       "    <tr>\n",
       "      <th>mean</th>\n",
       "      <td>2000.40000</td>\n",
       "      <td>11.679333</td>\n",
       "      <td>1.593333</td>\n",
       "    </tr>\n",
       "    <tr>\n",
       "      <th>std</th>\n",
       "      <td>6.28408</td>\n",
       "      <td>7.406566</td>\n",
       "      <td>0.500678</td>\n",
       "    </tr>\n",
       "    <tr>\n",
       "      <th>min</th>\n",
       "      <td>1978.00000</td>\n",
       "      <td>5.950000</td>\n",
       "      <td>0.990000</td>\n",
       "    </tr>\n",
       "    <tr>\n",
       "      <th>25%</th>\n",
       "      <td>1998.25000</td>\n",
       "      <td>6.990000</td>\n",
       "      <td>1.290000</td>\n",
       "    </tr>\n",
       "    <tr>\n",
       "      <th>50%</th>\n",
       "      <td>2003.00000</td>\n",
       "      <td>7.990000</td>\n",
       "      <td>1.290000</td>\n",
       "    </tr>\n",
       "    <tr>\n",
       "      <th>75%</th>\n",
       "      <td>2004.75000</td>\n",
       "      <td>17.460000</td>\n",
       "      <td>1.940000</td>\n",
       "    </tr>\n",
       "    <tr>\n",
       "      <th>max</th>\n",
       "      <td>2006.00000</td>\n",
       "      <td>26.950000</td>\n",
       "      <td>2.690000</td>\n",
       "    </tr>\n",
       "  </tbody>\n",
       "</table>\n",
       "</div>"
      ],
      "text/plain": [
       "       Publication Year  List Price  Sale Price\n",
       "count          30.00000   30.000000   30.000000\n",
       "mean         2000.40000   11.679333    1.593333\n",
       "std             6.28408    7.406566    0.500678\n",
       "min          1978.00000    5.950000    0.990000\n",
       "25%          1998.25000    6.990000    1.290000\n",
       "50%          2003.00000    7.990000    1.290000\n",
       "75%          2004.75000   17.460000    1.940000\n",
       "max          2006.00000   26.950000    2.690000"
      ]
     },
     "execution_count": 5,
     "metadata": {},
     "output_type": "execute_result"
    }
   ],
   "source": [
    "df.describe() # nummerische werte werden ausgegeben"
   ]
  },
  {
   "cell_type": "markdown",
   "id": "713a5f09",
   "metadata": {},
   "source": [
    "Aufgabe 2: ALLE MITTELWERTE UND STANDARDABWEICHUNGEN\n",
    "\n",
    "Da die describe() Methode tatsächlich einen DataFrame ausgibt, können wir anschließend bspw. mithilfe der loc[,] Methode auf einzelne Einträge zugreifen. Lass dir in Kombination von describe() und loc[,] alle Mittelwerte und Standardabweichungen der numerischen Spalten ausgeben."
   ]
  },
  {
   "cell_type": "markdown",
   "id": "4c60788d",
   "metadata": {},
   "source": [
    "Die Aufgabe lässt sich ohne Probleme in kleineren Schritten lösen.\n",
    "\n",
    "Man kann zunächst den DataFrame, der durch df.describe() erzeugt wird, einer neuen Variablen zuweisen. Auf diese kann man im Anschluss ohne Probleme die loc[,] Methode anwenden. Zu beachten ist hier allerdings, dass der index nicht numeriert ist, sondern aus strings besteht.\n",
    "\n",
    "Alternativ kann man ohne Variablenzuweisung arbeiten und die loc[,] Methode direkt hinter der describe() Methode benutzen."
   ]
  },
  {
   "cell_type": "markdown",
   "id": "46a67c9e",
   "metadata": {},
   "source": [
    "VARIANTE 1"
   ]
  },
  {
   "cell_type": "code",
   "execution_count": 3,
   "id": "043d330b",
   "metadata": {},
   "outputs": [
    {
     "data": {
      "text/html": [
       "<div>\n",
       "<style scoped>\n",
       "    .dataframe tbody tr th:only-of-type {\n",
       "        vertical-align: middle;\n",
       "    }\n",
       "\n",
       "    .dataframe tbody tr th {\n",
       "        vertical-align: top;\n",
       "    }\n",
       "\n",
       "    .dataframe thead th {\n",
       "        text-align: right;\n",
       "    }\n",
       "</style>\n",
       "<table border=\"1\" class=\"dataframe\">\n",
       "  <thead>\n",
       "    <tr style=\"text-align: right;\">\n",
       "      <th></th>\n",
       "      <th>Publication Year</th>\n",
       "      <th>List Price</th>\n",
       "      <th>Sale Price</th>\n",
       "    </tr>\n",
       "  </thead>\n",
       "  <tbody>\n",
       "    <tr>\n",
       "      <th>mean</th>\n",
       "      <td>2000.40000</td>\n",
       "      <td>11.679333</td>\n",
       "      <td>1.593333</td>\n",
       "    </tr>\n",
       "    <tr>\n",
       "      <th>std</th>\n",
       "      <td>6.28408</td>\n",
       "      <td>7.406566</td>\n",
       "      <td>0.500678</td>\n",
       "    </tr>\n",
       "  </tbody>\n",
       "</table>\n",
       "</div>"
      ],
      "text/plain": [
       "      Publication Year  List Price  Sale Price\n",
       "mean        2000.40000   11.679333    1.593333\n",
       "std            6.28408    7.406566    0.500678"
      ]
     },
     "metadata": {},
     "output_type": "display_data"
    }
   ],
   "source": [
    "df_describe = df.describe()\n",
    "display(df_describe.loc[['mean', 'std'],:])"
   ]
  },
  {
   "cell_type": "markdown",
   "id": "8a088e6f",
   "metadata": {},
   "source": [
    "VARIANTE 2"
   ]
  },
  {
   "cell_type": "code",
   "execution_count": 4,
   "id": "e9679c54",
   "metadata": {},
   "outputs": [
    {
     "data": {
      "text/html": [
       "<div>\n",
       "<style scoped>\n",
       "    .dataframe tbody tr th:only-of-type {\n",
       "        vertical-align: middle;\n",
       "    }\n",
       "\n",
       "    .dataframe tbody tr th {\n",
       "        vertical-align: top;\n",
       "    }\n",
       "\n",
       "    .dataframe thead th {\n",
       "        text-align: right;\n",
       "    }\n",
       "</style>\n",
       "<table border=\"1\" class=\"dataframe\">\n",
       "  <thead>\n",
       "    <tr style=\"text-align: right;\">\n",
       "      <th></th>\n",
       "      <th>Publication Year</th>\n",
       "      <th>List Price</th>\n",
       "      <th>Sale Price</th>\n",
       "    </tr>\n",
       "  </thead>\n",
       "  <tbody>\n",
       "    <tr>\n",
       "      <th>mean</th>\n",
       "      <td>2000.40000</td>\n",
       "      <td>11.679333</td>\n",
       "      <td>1.593333</td>\n",
       "    </tr>\n",
       "    <tr>\n",
       "      <th>std</th>\n",
       "      <td>6.28408</td>\n",
       "      <td>7.406566</td>\n",
       "      <td>0.500678</td>\n",
       "    </tr>\n",
       "  </tbody>\n",
       "</table>\n",
       "</div>"
      ],
      "text/plain": [
       "      Publication Year  List Price  Sale Price\n",
       "mean        2000.40000   11.679333    1.593333\n",
       "std            6.28408    7.406566    0.500678"
      ]
     },
     "metadata": {},
     "output_type": "display_data"
    }
   ],
   "source": [
    "display(df.describe().loc[['mean', 'std']])"
   ]
  }
 ],
 "metadata": {
  "kernelspec": {
   "display_name": "Python 3",
   "language": "python",
   "name": "python3"
  },
  "language_info": {
   "codemirror_mode": {
    "name": "ipython",
    "version": 3
   },
   "file_extension": ".py",
   "mimetype": "text/x-python",
   "name": "python",
   "nbconvert_exporter": "python",
   "pygments_lexer": "ipython3",
   "version": "3.13.3"
  }
 },
 "nbformat": 4,
 "nbformat_minor": 5
}
