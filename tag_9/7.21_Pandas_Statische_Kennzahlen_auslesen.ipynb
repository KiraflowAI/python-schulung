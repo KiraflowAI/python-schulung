{
 "cells": [
  {
   "cell_type": "code",
   "execution_count": 1,
   "id": "18a7a898",
   "metadata": {},
   "outputs": [
    {
     "data": {
      "text/html": [
       "<div>\n",
       "<style scoped>\n",
       "    .dataframe tbody tr th:only-of-type {\n",
       "        vertical-align: middle;\n",
       "    }\n",
       "\n",
       "    .dataframe tbody tr th {\n",
       "        vertical-align: top;\n",
       "    }\n",
       "\n",
       "    .dataframe thead th {\n",
       "        text-align: right;\n",
       "    }\n",
       "</style>\n",
       "<table border=\"1\" class=\"dataframe\">\n",
       "  <thead>\n",
       "    <tr style=\"text-align: right;\">\n",
       "      <th></th>\n",
       "      <th>Title</th>\n",
       "      <th>Author</th>\n",
       "      <th>Publication Year</th>\n",
       "      <th>List Price</th>\n",
       "      <th>Sale Price</th>\n",
       "      <th>Condition</th>\n",
       "    </tr>\n",
       "  </thead>\n",
       "  <tbody>\n",
       "    <tr>\n",
       "      <th>0</th>\n",
       "      <td>The Lord of the Rings</td>\n",
       "      <td>Tolkien, J.R.R.</td>\n",
       "      <td>1992</td>\n",
       "      <td>7.99</td>\n",
       "      <td>2.69</td>\n",
       "      <td>like new</td>\n",
       "    </tr>\n",
       "    <tr>\n",
       "      <th>1</th>\n",
       "      <td>The Bible</td>\n",
       "      <td>International Bible Society</td>\n",
       "      <td>2003</td>\n",
       "      <td>7.50</td>\n",
       "      <td>2.49</td>\n",
       "      <td>like new</td>\n",
       "    </tr>\n",
       "    <tr>\n",
       "      <th>2</th>\n",
       "      <td>The Pillars of the Earth</td>\n",
       "      <td>Follett, Ken</td>\n",
       "      <td>2002</td>\n",
       "      <td>19.95</td>\n",
       "      <td>1.49</td>\n",
       "      <td>very good</td>\n",
       "    </tr>\n",
       "    <tr>\n",
       "      <th>3</th>\n",
       "      <td>Perfume: The Story of a Murderer</td>\n",
       "      <td>Süskind, Patrick</td>\n",
       "      <td>2003</td>\n",
       "      <td>19.95</td>\n",
       "      <td>1.29</td>\n",
       "      <td>very good</td>\n",
       "    </tr>\n",
       "    <tr>\n",
       "      <th>4</th>\n",
       "      <td>The Little Prince</td>\n",
       "      <td>Saint-Exupéry, Antoine de</td>\n",
       "      <td>2006</td>\n",
       "      <td>24.95</td>\n",
       "      <td>2.59</td>\n",
       "      <td>good</td>\n",
       "    </tr>\n",
       "  </tbody>\n",
       "</table>\n",
       "</div>"
      ],
      "text/plain": [
       "                              Title                       Author  \\\n",
       "0             The Lord of the Rings              Tolkien, J.R.R.   \n",
       "1                         The Bible  International Bible Society   \n",
       "2          The Pillars of the Earth                 Follett, Ken   \n",
       "3  Perfume: The Story of a Murderer             Süskind, Patrick   \n",
       "4                 The Little Prince    Saint-Exupéry, Antoine de   \n",
       "\n",
       "   Publication Year  List Price  Sale Price  Condition  \n",
       "0              1992        7.99        2.69   like new  \n",
       "1              2003        7.50        2.49   like new  \n",
       "2              2002       19.95        1.49  very good  \n",
       "3              2003       19.95        1.29  very good  \n",
       "4              2006       24.95        2.59       good  "
      ]
     },
     "metadata": {},
     "output_type": "display_data"
    }
   ],
   "source": [
    "# Pandas importieren\n",
    "import pandas as pd\n",
    "\n",
    "# Einlesen einer csv-Datei\n",
    "df = pd.read_csv(\"bookstore.csv\")\n",
    "\n",
    "display(df.head())"
   ]
  },
  {
   "cell_type": "markdown",
   "id": "b02138b0",
   "metadata": {},
   "source": [
    "In der Mathematik gibt es sehr viele Kennzahlen, die im Bereich der Statistik genutzt werden. Dabei gibt es einige wenige, bei denen es sich meist lohnt sie sich am Anfang einer Analyse anzuschauen, um ein besseres Gefühl für die Daten zu bekommen.\n",
    "\n",
    "Die meisten Kennzahlen sind dabei nur auf numerische Werte (int und float) anwendbar. Für Spalten, die kategorische Werte enthalten, wie bspw, die Spalte \"Author\", gibt es weniger Kennzahlen"
   ]
  },
  {
   "cell_type": "markdown",
   "id": "60935f02",
   "metadata": {},
   "source": [
    "Kennzahlen numerischer Spalten"
   ]
  },
  {
   "cell_type": "markdown",
   "id": "13231f1d",
   "metadata": {},
   "source": [
    "Die Anzahl an Werten in einer Spalte wirkt auf den ersten Blick nicht wie eine wichtige statistische Kennzahl, allerdings kann es vorkommen, dass einige Werte in Spalten nicht vorhanden sind. Bei zu vielen fehlenden Werten lässt sich dann evtl. keine Aussage mehr anhand dieser Spalte treffen.\n",
    "\n",
    "Der Mittelwert ist eine sehr verbreitete Kennzahl. Er gibt die \"rechnerische Mitte\" der Zahlen an. Hierbei werden alle Zahlen addiert und im Anschluss durch ihre Anzahl geteilt.\n",
    "\n",
    "Der Median gibt ähnlich zum Mittelwert die Mitte der Zahlen an, dies allerdings auf eine andere Weise. Für den Median werden die Zahlen der größe nach sortiert, woraufhin die Zahl in der Mitte dieser neuen Ordnung der Median ist.\n",
    "\n",
    "Das Minimum ist die kleinste Zahl einer Spalte\n",
    "\n",
    "Das Maximum ist die größte Zahl einer Spalte\n",
    "\n",
    "Das untere Quartil lässt sich genauso wie der Median bestimmen, indem man zunächst alle Zahen der Größe nach sortiert. Anschließend wird nicht die Zahl in der Mitte betrachtet, sondern die Zahl bei 1/4 aller Zahlen, also von der ersten Hälfte die Mitte.\n",
    "\n",
    "Für das obere Quartil gilt genau das selbe, nur dass zum Schluss die Zahl bei 3/4 aller Zahlen betrachtet wird, also von der zweiten Hälfte die Mitte.\n",
    "\n",
    "Die Standardabweichung ist ein Maß durch das die Streuung der Zahlen angegeben werden kann. Stellen wir uns die Zahlen einer Spalte auf einem Zahlenstrahl vor, dann gibt die Standardabweichung, an wie weit die Zahlen nach links und rechts verstreut sind. Sie errechnet sich aus der Summe der Quadrate der Abstände zum Mittelwert.\n",
    "\n"
   ]
  },
  {
   "cell_type": "markdown",
   "id": "f1e74ddf",
   "metadata": {},
   "source": [
    "Für jede dieser Kennzahlen gibt es entsprechende Methoden für Series in pandas. Hier beispielhaft an der Spalte Publication Year:"
   ]
  },
  {
   "cell_type": "code",
   "execution_count": 2,
   "id": "f83f469a",
   "metadata": {},
   "outputs": [
    {
     "name": "stdout",
     "output_type": "stream",
     "text": [
      "Anzahl:              30\n",
      "Mittelwert:          2000.4\n",
      "Standardabweichung:  6.284079500803105\n",
      "Minimum:             1978\n",
      "unteres Quartil:     1998.25\n",
      "Median:              2003.0\n",
      "oberes Quartil:      2004.75\n",
      "Maximum:             2006\n"
     ]
    }
   ],
   "source": [
    "# Anzahl\n",
    "print(\"Anzahl:             \", df.loc[:, \"Publication Year\"].count())\n",
    "\n",
    "# Mittelwert\n",
    "print(\"Mittelwert:         \", df.loc[:, \"Publication Year\"].mean())\n",
    "\n",
    "# Standardabweichung\n",
    "print(\"Standardabweichung: \", df.loc[:, \"Publication Year\"].std())\n",
    "\n",
    "# Minimum\n",
    "print(\"Minimum:            \", df.loc[:, \"Publication Year\"].min())\n",
    "\n",
    "# unteres Quartil\n",
    "print(\"unteres Quartil:    \", df.loc[:, \"Publication Year\"].quantile(0.25))\n",
    "\n",
    "# Median\n",
    "print(\"Median:             \", df.loc[:, \"Publication Year\"].median())\n",
    "\n",
    "# oberes Quartil\n",
    "print(\"oberes Quartil:     \", df.loc[:, \"Publication Year\"].quantile(0.75))\n",
    "\n",
    "# Maximum\n",
    "print(\"Maximum:            \", df.loc[:, \"Publication Year\"].max())"
   ]
  },
  {
   "cell_type": "markdown",
   "id": "474351d1",
   "metadata": {},
   "source": [
    "Da es sehr mühselig sein kann sich für jede Spalte die Kennzahlen anzuschauen, stellt pandas die implementierte Methode describe() zur Verfügung. Sie gibt automatisch für jede numerische Spalte diese 8 Kennzahlen aus."
   ]
  },
  {
   "cell_type": "code",
   "execution_count": 3,
   "id": "0461a7ef",
   "metadata": {},
   "outputs": [
    {
     "data": {
      "text/html": [
       "<div>\n",
       "<style scoped>\n",
       "    .dataframe tbody tr th:only-of-type {\n",
       "        vertical-align: middle;\n",
       "    }\n",
       "\n",
       "    .dataframe tbody tr th {\n",
       "        vertical-align: top;\n",
       "    }\n",
       "\n",
       "    .dataframe thead th {\n",
       "        text-align: right;\n",
       "    }\n",
       "</style>\n",
       "<table border=\"1\" class=\"dataframe\">\n",
       "  <thead>\n",
       "    <tr style=\"text-align: right;\">\n",
       "      <th></th>\n",
       "      <th>Publication Year</th>\n",
       "      <th>List Price</th>\n",
       "      <th>Sale Price</th>\n",
       "    </tr>\n",
       "  </thead>\n",
       "  <tbody>\n",
       "    <tr>\n",
       "      <th>count</th>\n",
       "      <td>30.00000</td>\n",
       "      <td>30.000000</td>\n",
       "      <td>30.000000</td>\n",
       "    </tr>\n",
       "    <tr>\n",
       "      <th>mean</th>\n",
       "      <td>2000.40000</td>\n",
       "      <td>11.679333</td>\n",
       "      <td>1.593333</td>\n",
       "    </tr>\n",
       "    <tr>\n",
       "      <th>std</th>\n",
       "      <td>6.28408</td>\n",
       "      <td>7.406566</td>\n",
       "      <td>0.500678</td>\n",
       "    </tr>\n",
       "    <tr>\n",
       "      <th>min</th>\n",
       "      <td>1978.00000</td>\n",
       "      <td>5.950000</td>\n",
       "      <td>0.990000</td>\n",
       "    </tr>\n",
       "    <tr>\n",
       "      <th>25%</th>\n",
       "      <td>1998.25000</td>\n",
       "      <td>6.990000</td>\n",
       "      <td>1.290000</td>\n",
       "    </tr>\n",
       "    <tr>\n",
       "      <th>50%</th>\n",
       "      <td>2003.00000</td>\n",
       "      <td>7.990000</td>\n",
       "      <td>1.290000</td>\n",
       "    </tr>\n",
       "    <tr>\n",
       "      <th>75%</th>\n",
       "      <td>2004.75000</td>\n",
       "      <td>17.460000</td>\n",
       "      <td>1.940000</td>\n",
       "    </tr>\n",
       "    <tr>\n",
       "      <th>max</th>\n",
       "      <td>2006.00000</td>\n",
       "      <td>26.950000</td>\n",
       "      <td>2.690000</td>\n",
       "    </tr>\n",
       "  </tbody>\n",
       "</table>\n",
       "</div>"
      ],
      "text/plain": [
       "       Publication Year  List Price  Sale Price\n",
       "count          30.00000   30.000000   30.000000\n",
       "mean         2000.40000   11.679333    1.593333\n",
       "std             6.28408    7.406566    0.500678\n",
       "min          1978.00000    5.950000    0.990000\n",
       "25%          1998.25000    6.990000    1.290000\n",
       "50%          2003.00000    7.990000    1.290000\n",
       "75%          2004.75000   17.460000    1.940000\n",
       "max          2006.00000   26.950000    2.690000"
      ]
     },
     "execution_count": 3,
     "metadata": {},
     "output_type": "execute_result"
    }
   ],
   "source": [
    "df.describe()"
   ]
  },
  {
   "cell_type": "markdown",
   "id": "b751687b",
   "metadata": {},
   "source": [
    "Kennzahlen kategorischer spalten"
   ]
  },
  {
   "cell_type": "markdown",
   "id": "9d9dab26",
   "metadata": {},
   "source": [
    "Die meisten Kennzahlen numerischer Spalten benötigen die Eigenschaft, dass man die Zahlen in Relation zueinander setzen kann. Bspw. dass 4 doppelt so groß wie 2 ist. Dies funktioniert bei kategorischen Spalten meist nicht, denn wie sollte man bspw. ein Verhältnis zwischen Buchtiteln beschreiben?\n",
    "\n",
    "Aus diesem Grund verbleiben nur wenige Kennzahlen:\n",
    "\n",
    "Die Anzahl aller Einträge lässt sich natürlich auch hier ermitteln und dies auch mit der selben Methode wie bei numerischen Spalten.\n",
    "\n",
    "Die Anzahl einzigartiger Einträge ist eine abgewandelte Form der Gesamtzahl. Der Unterschied ist nicht Nicht-Doppelt-Zählung, d.h. hier wird gezählt wie viele unterschiedliche Einträge es in einer Spalte gibt.\n",
    "\n",
    "Die Anzahl jedes einzigartigen Eintrages ist wie für jeden einzigartigen Eintrag die Anzahl von diesem gezählt."
   ]
  },
  {
   "cell_type": "code",
   "execution_count": 4,
   "id": "55ef0ca9",
   "metadata": {},
   "outputs": [
    {
     "name": "stdout",
     "output_type": "stream",
     "text": [
      "30\n"
     ]
    }
   ],
   "source": [
    "# Anzahl aller Einträge\n",
    "print(df.loc[:, \"Condition\"].count())"
   ]
  },
  {
   "cell_type": "code",
   "execution_count": 5,
   "id": "4164815f",
   "metadata": {},
   "outputs": [
    {
     "data": {
      "text/plain": [
       "3"
      ]
     },
     "execution_count": 5,
     "metadata": {},
     "output_type": "execute_result"
    }
   ],
   "source": [
    "# Anzahl aller einzigartigen Einträge\n",
    "df.loc[:, \"Condition\"].nunique()"
   ]
  },
  {
   "cell_type": "code",
   "execution_count": 6,
   "id": "13bb1531",
   "metadata": {},
   "outputs": [
    {
     "data": {
      "text/plain": [
       "array(['like new', 'very good', 'good'], dtype=object)"
      ]
     },
     "execution_count": 6,
     "metadata": {},
     "output_type": "execute_result"
    }
   ],
   "source": [
    "# Alle einzigartigen Einträge aufgelistet\n",
    "df.loc[:, \"Condition\"].unique()"
   ]
  },
  {
   "cell_type": "code",
   "execution_count": 7,
   "id": "f70760f3",
   "metadata": {},
   "outputs": [
    {
     "data": {
      "text/plain": [
       "0    very good\n",
       "Name: Condition, dtype: object"
      ]
     },
     "execution_count": 7,
     "metadata": {},
     "output_type": "execute_result"
    }
   ],
   "source": [
    "# Häufigster Eintrag\n",
    "df.loc[:, \"Condition\"].mode()"
   ]
  },
  {
   "cell_type": "code",
   "execution_count": 8,
   "id": "54700197",
   "metadata": {},
   "outputs": [
    {
     "data": {
      "text/plain": [
       "Condition\n",
       "very good    16\n",
       "like new     11\n",
       "good          3\n",
       "Name: count, dtype: int64"
      ]
     },
     "execution_count": 8,
     "metadata": {},
     "output_type": "execute_result"
    }
   ],
   "source": [
    "# Anzahl jedes einzigartigen Eintrages\n",
    "df.loc[:, \"Condition\"].value_counts()"
   ]
  },
  {
   "cell_type": "markdown",
   "id": "0b01e38a",
   "metadata": {},
   "source": [
    "count() lässt sich wie zuvor bei numerischen auch auf kategorische Spalten anwenden. Auch hier werden alle Einträge gezählt.\n",
    "\n",
    "nunique() gibt die Anzahl aller einzigartigen Einträge aus. Einzigartige Einträge sind hierbei einfach alle Einträge ohne, dass doppelt gezählt wird.\n",
    "\n",
    "unique() gibt alle einzigartigen Einträge als array aus. Ein array ist hierbei ein Objekt aus dem Modul numpy, welches ähnlich zu einer Liste ist.\n",
    "\n",
    "mode() gibt den häufigsten Eintrag aus, bzw alle häufigsten Einträge, sofern es gleich viele häufigste Einträge gibt. Die Ausgabe ist deshalb wieder eine Series.\n",
    "\n",
    "value_counts() gibt alle einzigartigen Einträge und zusätzlich ihre Häufigkeiten der Größe nach sortiert aus."
   ]
  }
 ],
 "metadata": {
  "kernelspec": {
   "display_name": "Python 3",
   "language": "python",
   "name": "python3"
  },
  "language_info": {
   "codemirror_mode": {
    "name": "ipython",
    "version": 3
   },
   "file_extension": ".py",
   "mimetype": "text/x-python",
   "name": "python",
   "nbconvert_exporter": "python",
   "pygments_lexer": "ipython3",
   "version": "3.13.3"
  }
 },
 "nbformat": 4,
 "nbformat_minor": 5
}
