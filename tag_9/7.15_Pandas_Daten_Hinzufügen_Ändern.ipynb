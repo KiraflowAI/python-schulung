{
 "cells": [
  {
   "cell_type": "markdown",
   "id": "7c3b1ac3",
   "metadata": {},
   "source": [
    "Daten einsehen - loc[ , ] und iloc[ , ]\n",
    "\n",
    "\n",
    "Oft ist es notwendig auf einzelne Einträge zuzugreifen, bspw. wenn man durch eine Spalte iteriert und jeden Eintrag individuell verändern möchte. Solche Zugriffe auf einzelne Einträge erfolgen durch die Angabe von Zeile und Spalte.\n",
    "\n",
    "Die loc[,] Methode ist hierbei eine gute Möglichkeit. Ihr übergibt man den Zeilen-index (die Bezeichnung der Zeile) und die Bezeichnung der Spalte (column).\n",
    "\n",
    "Die iloc[,] Methode greift andersherum durch die entrsprechende gezählte Stelle auf einen Eintrag zu. Dass heißt sowohl Zeilen- als auch Spaltenangaben müssen Ganzzahlen sein.\n",
    "\n",
    "Wichtig: In Python beginnt die Nummerierung bei 0!\n",
    "\n",
    "D.h. die erste Zeile ist nicht die 1., sondern die 0.! Selbiges gilt auch für die Spalten.\n",
    "\n",
    "\n",
    "\n",
    "\n"
   ]
  },
  {
   "cell_type": "code",
   "execution_count": 4,
   "id": "9ed0c1a7",
   "metadata": {},
   "outputs": [],
   "source": [
    "import pandas as pd"
   ]
  },
  {
   "cell_type": "code",
   "execution_count": 5,
   "id": "ce379096",
   "metadata": {},
   "outputs": [],
   "source": [
    "df = pd.read_csv('bookstore.csv')"
   ]
  },
  {
   "cell_type": "code",
   "execution_count": 6,
   "id": "2b66825a",
   "metadata": {},
   "outputs": [
    {
     "data": {
      "text/html": [
       "<div>\n",
       "<style scoped>\n",
       "    .dataframe tbody tr th:only-of-type {\n",
       "        vertical-align: middle;\n",
       "    }\n",
       "\n",
       "    .dataframe tbody tr th {\n",
       "        vertical-align: top;\n",
       "    }\n",
       "\n",
       "    .dataframe thead th {\n",
       "        text-align: right;\n",
       "    }\n",
       "</style>\n",
       "<table border=\"1\" class=\"dataframe\">\n",
       "  <thead>\n",
       "    <tr style=\"text-align: right;\">\n",
       "      <th></th>\n",
       "      <th>Title</th>\n",
       "      <th>Author</th>\n",
       "      <th>Publication Year</th>\n",
       "      <th>List Price</th>\n",
       "      <th>Sale Price</th>\n",
       "      <th>Condition</th>\n",
       "    </tr>\n",
       "  </thead>\n",
       "  <tbody>\n",
       "    <tr>\n",
       "      <th>0</th>\n",
       "      <td>The Lord of the Rings</td>\n",
       "      <td>Tolkien, J.R.R.</td>\n",
       "      <td>1992</td>\n",
       "      <td>7.99</td>\n",
       "      <td>2.69</td>\n",
       "      <td>like new</td>\n",
       "    </tr>\n",
       "    <tr>\n",
       "      <th>1</th>\n",
       "      <td>The Bible</td>\n",
       "      <td>International Bible Society</td>\n",
       "      <td>2003</td>\n",
       "      <td>7.50</td>\n",
       "      <td>2.49</td>\n",
       "      <td>like new</td>\n",
       "    </tr>\n",
       "    <tr>\n",
       "      <th>2</th>\n",
       "      <td>The Pillars of the Earth</td>\n",
       "      <td>Follett, Ken</td>\n",
       "      <td>2002</td>\n",
       "      <td>19.95</td>\n",
       "      <td>1.49</td>\n",
       "      <td>very good</td>\n",
       "    </tr>\n",
       "    <tr>\n",
       "      <th>3</th>\n",
       "      <td>Perfume: The Story of a Murderer</td>\n",
       "      <td>Süskind, Patrick</td>\n",
       "      <td>2003</td>\n",
       "      <td>19.95</td>\n",
       "      <td>1.29</td>\n",
       "      <td>very good</td>\n",
       "    </tr>\n",
       "    <tr>\n",
       "      <th>4</th>\n",
       "      <td>The Little Prince</td>\n",
       "      <td>Saint-Exupéry, Antoine de</td>\n",
       "      <td>2006</td>\n",
       "      <td>24.95</td>\n",
       "      <td>2.59</td>\n",
       "      <td>good</td>\n",
       "    </tr>\n",
       "  </tbody>\n",
       "</table>\n",
       "</div>"
      ],
      "text/plain": [
       "                              Title                       Author  \\\n",
       "0             The Lord of the Rings              Tolkien, J.R.R.   \n",
       "1                         The Bible  International Bible Society   \n",
       "2          The Pillars of the Earth                 Follett, Ken   \n",
       "3  Perfume: The Story of a Murderer             Süskind, Patrick   \n",
       "4                 The Little Prince    Saint-Exupéry, Antoine de   \n",
       "\n",
       "   Publication Year  List Price  Sale Price  Condition  \n",
       "0              1992        7.99        2.69   like new  \n",
       "1              2003        7.50        2.49   like new  \n",
       "2              2002       19.95        1.49  very good  \n",
       "3              2003       19.95        1.29  very good  \n",
       "4              2006       24.95        2.59       good  "
      ]
     },
     "metadata": {},
     "output_type": "display_data"
    }
   ],
   "source": [
    "display(df.head())"
   ]
  },
  {
   "cell_type": "code",
   "execution_count": 7,
   "id": "f5f0ed70",
   "metadata": {},
   "outputs": [
    {
     "name": "stdout",
     "output_type": "stream",
     "text": [
      "The Pillars of the Earth\n",
      "The Pillars of the Earth\n"
     ]
    }
   ],
   "source": [
    "# loc[,]\n",
    "# Zugriff auf Zeile mit Index=2 und Column=\"Title\"\n",
    "print(df.loc[2, \"Title\"])\n",
    "\n",
    "# iloc[,]\n",
    "# Zugriff auf 2. Zeile und 1. Spalte\n",
    "print(df.iloc[2, 0])"
   ]
  },
  {
   "cell_type": "markdown",
   "id": "bd5d5d63",
   "metadata": {},
   "source": [
    "Beim Vergleichen mit dem DataFrame oben sehen wir, dass der richtige Eintrag ausgegeben wurde.\n",
    "\n",
    "Wir können uns auch mehrere Einträge ausgeben lassen:"
   ]
  },
  {
   "cell_type": "code",
   "execution_count": 8,
   "id": "8021944f",
   "metadata": {},
   "outputs": [
    {
     "data": {
      "text/html": [
       "<div>\n",
       "<style scoped>\n",
       "    .dataframe tbody tr th:only-of-type {\n",
       "        vertical-align: middle;\n",
       "    }\n",
       "\n",
       "    .dataframe tbody tr th {\n",
       "        vertical-align: top;\n",
       "    }\n",
       "\n",
       "    .dataframe thead th {\n",
       "        text-align: right;\n",
       "    }\n",
       "</style>\n",
       "<table border=\"1\" class=\"dataframe\">\n",
       "  <thead>\n",
       "    <tr style=\"text-align: right;\">\n",
       "      <th></th>\n",
       "      <th>Title</th>\n",
       "      <th>Author</th>\n",
       "    </tr>\n",
       "  </thead>\n",
       "  <tbody>\n",
       "    <tr>\n",
       "      <th>1</th>\n",
       "      <td>The Bible</td>\n",
       "      <td>International Bible Society</td>\n",
       "    </tr>\n",
       "    <tr>\n",
       "      <th>2</th>\n",
       "      <td>The Pillars of the Earth</td>\n",
       "      <td>Follett, Ken</td>\n",
       "    </tr>\n",
       "    <tr>\n",
       "      <th>3</th>\n",
       "      <td>Perfume: The Story of a Murderer</td>\n",
       "      <td>Süskind, Patrick</td>\n",
       "    </tr>\n",
       "  </tbody>\n",
       "</table>\n",
       "</div>"
      ],
      "text/plain": [
       "                              Title                       Author\n",
       "1                         The Bible  International Bible Society\n",
       "2          The Pillars of the Earth                 Follett, Ken\n",
       "3  Perfume: The Story of a Murderer             Süskind, Patrick"
      ]
     },
     "metadata": {},
     "output_type": "display_data"
    },
    {
     "data": {
      "text/html": [
       "<div>\n",
       "<style scoped>\n",
       "    .dataframe tbody tr th:only-of-type {\n",
       "        vertical-align: middle;\n",
       "    }\n",
       "\n",
       "    .dataframe tbody tr th {\n",
       "        vertical-align: top;\n",
       "    }\n",
       "\n",
       "    .dataframe thead th {\n",
       "        text-align: right;\n",
       "    }\n",
       "</style>\n",
       "<table border=\"1\" class=\"dataframe\">\n",
       "  <thead>\n",
       "    <tr style=\"text-align: right;\">\n",
       "      <th></th>\n",
       "      <th>Title</th>\n",
       "      <th>Author</th>\n",
       "    </tr>\n",
       "  </thead>\n",
       "  <tbody>\n",
       "    <tr>\n",
       "      <th>1</th>\n",
       "      <td>The Bible</td>\n",
       "      <td>International Bible Society</td>\n",
       "    </tr>\n",
       "    <tr>\n",
       "      <th>2</th>\n",
       "      <td>The Pillars of the Earth</td>\n",
       "      <td>Follett, Ken</td>\n",
       "    </tr>\n",
       "    <tr>\n",
       "      <th>3</th>\n",
       "      <td>Perfume: The Story of a Murderer</td>\n",
       "      <td>Süskind, Patrick</td>\n",
       "    </tr>\n",
       "  </tbody>\n",
       "</table>\n",
       "</div>"
      ],
      "text/plain": [
       "                              Title                       Author\n",
       "1                         The Bible  International Bible Society\n",
       "2          The Pillars of the Earth                 Follett, Ken\n",
       "3  Perfume: The Story of a Murderer             Süskind, Patrick"
      ]
     },
     "metadata": {},
     "output_type": "display_data"
    }
   ],
   "source": [
    "# loc[,]\n",
    "# Zugriff auf Zeile mit Index=1,2 und 3 \n",
    "# und Column=\"Title\" und \"Author\"\n",
    "display(df.loc[[1,2,3], [\"Title\", \"Author\"]])\n",
    "\n",
    "# iloc[,]\n",
    "# Zugriff auf 1., 2. und 3. Zeile\n",
    "# und 1. und 2. Spalte\n",
    "display(df.iloc[[1,2,3], [0,1]])"
   ]
  },
  {
   "cell_type": "markdown",
   "id": "a959dbbe",
   "metadata": {},
   "source": [
    "Hierbei ist zu beachten, dass bei Angaben von mehreren Zeilen oder Spalten diese in Klammern gesetzt werden müssen.\n",
    "\n",
    "Eine Ausnahme hierbei ist Slicing (Auswahl durch benutzen von Doppelpunkten), bei dem keine Klammern notwendig sind:"
   ]
  },
  {
   "cell_type": "code",
   "execution_count": 9,
   "id": "efab793d",
   "metadata": {},
   "outputs": [
    {
     "data": {
      "text/html": [
       "<div>\n",
       "<style scoped>\n",
       "    .dataframe tbody tr th:only-of-type {\n",
       "        vertical-align: middle;\n",
       "    }\n",
       "\n",
       "    .dataframe tbody tr th {\n",
       "        vertical-align: top;\n",
       "    }\n",
       "\n",
       "    .dataframe thead th {\n",
       "        text-align: right;\n",
       "    }\n",
       "</style>\n",
       "<table border=\"1\" class=\"dataframe\">\n",
       "  <thead>\n",
       "    <tr style=\"text-align: right;\">\n",
       "      <th></th>\n",
       "      <th>Author</th>\n",
       "      <th>Publication Year</th>\n",
       "      <th>List Price</th>\n",
       "      <th>Sale Price</th>\n",
       "      <th>Condition</th>\n",
       "    </tr>\n",
       "  </thead>\n",
       "  <tbody>\n",
       "    <tr>\n",
       "      <th>0</th>\n",
       "      <td>Tolkien, J.R.R.</td>\n",
       "      <td>1992</td>\n",
       "      <td>7.99</td>\n",
       "      <td>2.69</td>\n",
       "      <td>like new</td>\n",
       "    </tr>\n",
       "    <tr>\n",
       "      <th>1</th>\n",
       "      <td>International Bible Society</td>\n",
       "      <td>2003</td>\n",
       "      <td>7.50</td>\n",
       "      <td>2.49</td>\n",
       "      <td>like new</td>\n",
       "    </tr>\n",
       "    <tr>\n",
       "      <th>2</th>\n",
       "      <td>Follett, Ken</td>\n",
       "      <td>2002</td>\n",
       "      <td>19.95</td>\n",
       "      <td>1.49</td>\n",
       "      <td>very good</td>\n",
       "    </tr>\n",
       "    <tr>\n",
       "      <th>3</th>\n",
       "      <td>Süskind, Patrick</td>\n",
       "      <td>2003</td>\n",
       "      <td>19.95</td>\n",
       "      <td>1.29</td>\n",
       "      <td>very good</td>\n",
       "    </tr>\n",
       "  </tbody>\n",
       "</table>\n",
       "</div>"
      ],
      "text/plain": [
       "                        Author  Publication Year  List Price  Sale Price  \\\n",
       "0              Tolkien, J.R.R.              1992        7.99        2.69   \n",
       "1  International Bible Society              2003        7.50        2.49   \n",
       "2                 Follett, Ken              2002       19.95        1.49   \n",
       "3             Süskind, Patrick              2003       19.95        1.29   \n",
       "\n",
       "   Condition  \n",
       "0   like new  \n",
       "1   like new  \n",
       "2  very good  \n",
       "3  very good  "
      ]
     },
     "metadata": {},
     "output_type": "display_data"
    },
    {
     "data": {
      "text/html": [
       "<div>\n",
       "<style scoped>\n",
       "    .dataframe tbody tr th:only-of-type {\n",
       "        vertical-align: middle;\n",
       "    }\n",
       "\n",
       "    .dataframe tbody tr th {\n",
       "        vertical-align: top;\n",
       "    }\n",
       "\n",
       "    .dataframe thead th {\n",
       "        text-align: right;\n",
       "    }\n",
       "</style>\n",
       "<table border=\"1\" class=\"dataframe\">\n",
       "  <thead>\n",
       "    <tr style=\"text-align: right;\">\n",
       "      <th></th>\n",
       "      <th>Author</th>\n",
       "      <th>Publication Year</th>\n",
       "      <th>List Price</th>\n",
       "      <th>Sale Price</th>\n",
       "      <th>Condition</th>\n",
       "    </tr>\n",
       "  </thead>\n",
       "  <tbody>\n",
       "    <tr>\n",
       "      <th>0</th>\n",
       "      <td>Tolkien, J.R.R.</td>\n",
       "      <td>1992</td>\n",
       "      <td>7.99</td>\n",
       "      <td>2.69</td>\n",
       "      <td>like new</td>\n",
       "    </tr>\n",
       "    <tr>\n",
       "      <th>1</th>\n",
       "      <td>International Bible Society</td>\n",
       "      <td>2003</td>\n",
       "      <td>7.50</td>\n",
       "      <td>2.49</td>\n",
       "      <td>like new</td>\n",
       "    </tr>\n",
       "    <tr>\n",
       "      <th>2</th>\n",
       "      <td>Follett, Ken</td>\n",
       "      <td>2002</td>\n",
       "      <td>19.95</td>\n",
       "      <td>1.49</td>\n",
       "      <td>very good</td>\n",
       "    </tr>\n",
       "    <tr>\n",
       "      <th>3</th>\n",
       "      <td>Süskind, Patrick</td>\n",
       "      <td>2003</td>\n",
       "      <td>19.95</td>\n",
       "      <td>1.29</td>\n",
       "      <td>very good</td>\n",
       "    </tr>\n",
       "  </tbody>\n",
       "</table>\n",
       "</div>"
      ],
      "text/plain": [
       "                        Author  Publication Year  List Price  Sale Price  \\\n",
       "0              Tolkien, J.R.R.              1992        7.99        2.69   \n",
       "1  International Bible Society              2003        7.50        2.49   \n",
       "2                 Follett, Ken              2002       19.95        1.49   \n",
       "3             Süskind, Patrick              2003       19.95        1.29   \n",
       "\n",
       "   Condition  \n",
       "0   like new  \n",
       "1   like new  \n",
       "2  very good  \n",
       "3  very good  "
      ]
     },
     "metadata": {},
     "output_type": "display_data"
    }
   ],
   "source": [
    "# loc[,]\n",
    "# Zugriff auf Zeile mit Index=3 und alles davor \n",
    "# und Column=\"Author\" und alles danach\n",
    "display(df.loc[:3, \"Author\":])\n",
    "\n",
    "# iloc[,]\n",
    "# Zugriff auf alles bis zur 3. Zeile \n",
    "# und alles ab der 1. Spalte\n",
    "display(df.iloc[:4, 1:])\n",
    "\n",
    "# Wichtig: Hier unterscheiden sich die ersten Einträge von loc und iloc"
   ]
  },
  {
   "cell_type": "markdown",
   "id": "34dfc1a5",
   "metadata": {},
   "source": [
    "DATEN ÄNDERN\n"
   ]
  },
  {
   "cell_type": "markdown",
   "id": "0538050e",
   "metadata": {},
   "source": [
    "Auf die selbe Art, wie wir auf einzelne Einträge zugreifen, können wir entsprechend Einträge auch ändern.\n",
    "\n",
    "Ändert sich bspw. der Verkaufspreis von dem ersten Buch in unserem DataFrame können wir diesen über loc[,] bzw. iloc[,] ändern:"
   ]
  },
  {
   "cell_type": "code",
   "execution_count": 10,
   "id": "6cae728e",
   "metadata": {},
   "outputs": [
    {
     "name": "stdout",
     "output_type": "stream",
     "text": [
      "Alter Verkaufspreis:   2.69\n",
      "Neuer Verkaufspreis:   1.49\n"
     ]
    }
   ],
   "source": [
    "print(\"Alter Verkaufspreis:  \", df.loc[0, \"Sale Price\"])\n",
    "\n",
    "# Neuen Preis zuweisen\n",
    "df.loc[0, \"Sale Price\"] = 1.49\n",
    "\n",
    "print(\"Neuer Verkaufspreis:  \", df.loc[0, \"Sale Price\"])"
   ]
  },
  {
   "cell_type": "markdown",
   "id": "b875bd62",
   "metadata": {},
   "source": [
    "Auf die selbe Weise können wir auch den index und die columns unseres DataFrames ändern.\n",
    "\n",
    "Wollen wir bspw. unsere columns auf deutsch haben, können wir dies durch eine einfache Zuweisung einer gleichlangen Liste ändern:"
   ]
  },
  {
   "cell_type": "code",
   "execution_count": 11,
   "id": "7989ec49",
   "metadata": {},
   "outputs": [
    {
     "data": {
      "text/html": [
       "<div>\n",
       "<style scoped>\n",
       "    .dataframe tbody tr th:only-of-type {\n",
       "        vertical-align: middle;\n",
       "    }\n",
       "\n",
       "    .dataframe tbody tr th {\n",
       "        vertical-align: top;\n",
       "    }\n",
       "\n",
       "    .dataframe thead th {\n",
       "        text-align: right;\n",
       "    }\n",
       "</style>\n",
       "<table border=\"1\" class=\"dataframe\">\n",
       "  <thead>\n",
       "    <tr style=\"text-align: right;\">\n",
       "      <th></th>\n",
       "      <th>Titel</th>\n",
       "      <th>Autor</th>\n",
       "      <th>Erscheinungsjahr</th>\n",
       "      <th>Listenpreis</th>\n",
       "      <th>Verkaufspreis</th>\n",
       "      <th>Zustand</th>\n",
       "    </tr>\n",
       "  </thead>\n",
       "  <tbody>\n",
       "    <tr>\n",
       "      <th>0</th>\n",
       "      <td>The Lord of the Rings</td>\n",
       "      <td>Tolkien, J.R.R.</td>\n",
       "      <td>1992</td>\n",
       "      <td>7.99</td>\n",
       "      <td>1.49</td>\n",
       "      <td>like new</td>\n",
       "    </tr>\n",
       "    <tr>\n",
       "      <th>1</th>\n",
       "      <td>The Bible</td>\n",
       "      <td>International Bible Society</td>\n",
       "      <td>2003</td>\n",
       "      <td>7.50</td>\n",
       "      <td>2.49</td>\n",
       "      <td>like new</td>\n",
       "    </tr>\n",
       "    <tr>\n",
       "      <th>2</th>\n",
       "      <td>The Pillars of the Earth</td>\n",
       "      <td>Follett, Ken</td>\n",
       "      <td>2002</td>\n",
       "      <td>19.95</td>\n",
       "      <td>1.49</td>\n",
       "      <td>very good</td>\n",
       "    </tr>\n",
       "    <tr>\n",
       "      <th>3</th>\n",
       "      <td>Perfume: The Story of a Murderer</td>\n",
       "      <td>Süskind, Patrick</td>\n",
       "      <td>2003</td>\n",
       "      <td>19.95</td>\n",
       "      <td>1.29</td>\n",
       "      <td>very good</td>\n",
       "    </tr>\n",
       "    <tr>\n",
       "      <th>4</th>\n",
       "      <td>The Little Prince</td>\n",
       "      <td>Saint-Exupéry, Antoine de</td>\n",
       "      <td>2006</td>\n",
       "      <td>24.95</td>\n",
       "      <td>2.59</td>\n",
       "      <td>good</td>\n",
       "    </tr>\n",
       "  </tbody>\n",
       "</table>\n",
       "</div>"
      ],
      "text/plain": [
       "                              Titel                        Autor  \\\n",
       "0             The Lord of the Rings              Tolkien, J.R.R.   \n",
       "1                         The Bible  International Bible Society   \n",
       "2          The Pillars of the Earth                 Follett, Ken   \n",
       "3  Perfume: The Story of a Murderer             Süskind, Patrick   \n",
       "4                 The Little Prince    Saint-Exupéry, Antoine de   \n",
       "\n",
       "   Erscheinungsjahr  Listenpreis  Verkaufspreis    Zustand  \n",
       "0              1992         7.99           1.49   like new  \n",
       "1              2003         7.50           2.49   like new  \n",
       "2              2002        19.95           1.49  very good  \n",
       "3              2003        19.95           1.29  very good  \n",
       "4              2006        24.95           2.59       good  "
      ]
     },
     "metadata": {},
     "output_type": "display_data"
    }
   ],
   "source": [
    "# Zuweisung neuer columns\n",
    "df.columns = ['Titel', 'Autor', 'Erscheinungsjahr', 'Listenpreis', 'Verkaufspreis', 'Zustand']\n",
    "\n",
    "display(df.head())"
   ]
  },
  {
   "cell_type": "markdown",
   "id": "e86f0c52",
   "metadata": {},
   "source": [
    "DATEN HINZUFÜGEN"
   ]
  },
  {
   "cell_type": "markdown",
   "id": "e665ddb9",
   "metadata": {},
   "source": [
    "Genauso einfach lassen sich auch neue Daten hinzufügen. Hierbei wäre es egal ob Zeilen hinzukommen, wenn weitere Bücher aufgenommen werden, oder Spalten hinzukommen, wenn wir eine neue Eigenschaft erfassen wollen.\n",
    "\n",
    "Würden wir bspw. einen Online-Leihandel gründen und deshalb ebenfalls vermerken wollen ob ein Buch momentan ausgeliehen ist oder nicht, können wir dies in einer weiteren Spalte vermerken."
   ]
  },
  {
   "cell_type": "markdown",
   "id": "a0eddf42",
   "metadata": {},
   "source": [
    "Hier ist wichtig, dass das Objekt (hier eine Liste), welches wir der neuen Spalte zuweisen wollen, auch die selbe Länge hat wie diese.\n",
    "\n",
    "Wäre in unserem Beispie die Liste zu lang oder zu kurz, würden wir eine entsprechende Fehlermeldung erhalten."
   ]
  },
  {
   "cell_type": "code",
   "execution_count": 14,
   "id": "893c3abe",
   "metadata": {},
   "outputs": [
    {
     "data": {
      "text/html": [
       "<div>\n",
       "<style scoped>\n",
       "    .dataframe tbody tr th:only-of-type {\n",
       "        vertical-align: middle;\n",
       "    }\n",
       "\n",
       "    .dataframe tbody tr th {\n",
       "        vertical-align: top;\n",
       "    }\n",
       "\n",
       "    .dataframe thead th {\n",
       "        text-align: right;\n",
       "    }\n",
       "</style>\n",
       "<table border=\"1\" class=\"dataframe\">\n",
       "  <thead>\n",
       "    <tr style=\"text-align: right;\">\n",
       "      <th></th>\n",
       "      <th>Titel</th>\n",
       "      <th>Autor</th>\n",
       "      <th>Erscheinungsjahr</th>\n",
       "      <th>Listenpreis</th>\n",
       "      <th>Verkaufspreis</th>\n",
       "      <th>Zustand</th>\n",
       "      <th>Status</th>\n",
       "    </tr>\n",
       "  </thead>\n",
       "  <tbody>\n",
       "    <tr>\n",
       "      <th>0</th>\n",
       "      <td>The Lord of the Rings</td>\n",
       "      <td>Tolkien, J.R.R.</td>\n",
       "      <td>1992</td>\n",
       "      <td>7.99</td>\n",
       "      <td>1.49</td>\n",
       "      <td>like new</td>\n",
       "      <td>available</td>\n",
       "    </tr>\n",
       "    <tr>\n",
       "      <th>1</th>\n",
       "      <td>The Bible</td>\n",
       "      <td>International Bible Society</td>\n",
       "      <td>2003</td>\n",
       "      <td>7.50</td>\n",
       "      <td>2.49</td>\n",
       "      <td>like new</td>\n",
       "      <td>available</td>\n",
       "    </tr>\n",
       "    <tr>\n",
       "      <th>2</th>\n",
       "      <td>The Pillars of the Earth</td>\n",
       "      <td>Follett, Ken</td>\n",
       "      <td>2002</td>\n",
       "      <td>19.95</td>\n",
       "      <td>1.49</td>\n",
       "      <td>very good</td>\n",
       "      <td>available</td>\n",
       "    </tr>\n",
       "    <tr>\n",
       "      <th>3</th>\n",
       "      <td>Perfume: The Story of a Murderer</td>\n",
       "      <td>Süskind, Patrick</td>\n",
       "      <td>2003</td>\n",
       "      <td>19.95</td>\n",
       "      <td>1.29</td>\n",
       "      <td>very good</td>\n",
       "      <td>available</td>\n",
       "    </tr>\n",
       "    <tr>\n",
       "      <th>4</th>\n",
       "      <td>The Little Prince</td>\n",
       "      <td>Saint-Exupéry, Antoine de</td>\n",
       "      <td>2006</td>\n",
       "      <td>24.95</td>\n",
       "      <td>2.59</td>\n",
       "      <td>good</td>\n",
       "      <td>available</td>\n",
       "    </tr>\n",
       "  </tbody>\n",
       "</table>\n",
       "</div>"
      ],
      "text/plain": [
       "                              Titel                        Autor  \\\n",
       "0             The Lord of the Rings              Tolkien, J.R.R.   \n",
       "1                         The Bible  International Bible Society   \n",
       "2          The Pillars of the Earth                 Follett, Ken   \n",
       "3  Perfume: The Story of a Murderer             Süskind, Patrick   \n",
       "4                 The Little Prince    Saint-Exupéry, Antoine de   \n",
       "\n",
       "   Erscheinungsjahr  Listenpreis  Verkaufspreis    Zustand     Status  \n",
       "0              1992         7.99           1.49   like new  available  \n",
       "1              2003         7.50           2.49   like new  available  \n",
       "2              2002        19.95           1.49  very good  available  \n",
       "3              2003        19.95           1.29  very good  available  \n",
       "4              2006        24.95           2.59       good  available  "
      ]
     },
     "metadata": {},
     "output_type": "display_data"
    }
   ],
   "source": [
    "# Zuweisen der neuen Spalte\n",
    "df.loc[:, \"Status\"] = [\"available\"] * 30\n",
    "\n",
    "display(df.head())"
   ]
  },
  {
   "cell_type": "markdown",
   "id": "71ad36fa",
   "metadata": {},
   "source": [
    "Kurzschreibweise\n",
    "Es gibt die Möglichkeit diese Schreibweise abzukürzen.\n",
    "\n",
    "Wollen wir bspw. auf eine oder mehrere ganze Spalten zugreifen, so können wir auch Folgendes schreiben:\n",
    "\n",
    "df[\"Titel\"] anstatt df.loc[:, \"Title\"] (Ausgabe ist eine Series)\n",
    "\n",
    "df[[\"Titel\", \"Autor\"]] anstatt df.loc[:, [\"Titel\", \"Autor\"]] (Ausgabe ist ein DataFrame)"
   ]
  },
  {
   "cell_type": "code",
   "execution_count": 15,
   "id": "82575cd4",
   "metadata": {},
   "outputs": [
    {
     "data": {
      "text/plain": [
       "0               The Lord of the Rings\n",
       "1                           The Bible\n",
       "2            The Pillars of the Earth\n",
       "3    Perfume: The Story of a Murderer\n",
       "4                   The Little Prince\n",
       "Name: Titel, dtype: object"
      ]
     },
     "metadata": {},
     "output_type": "display_data"
    }
   ],
   "source": [
    "display(df[\"Titel\"].head())"
   ]
  },
  {
   "cell_type": "code",
   "execution_count": 16,
   "id": "7f8d4b75",
   "metadata": {},
   "outputs": [
    {
     "data": {
      "text/html": [
       "<div>\n",
       "<style scoped>\n",
       "    .dataframe tbody tr th:only-of-type {\n",
       "        vertical-align: middle;\n",
       "    }\n",
       "\n",
       "    .dataframe tbody tr th {\n",
       "        vertical-align: top;\n",
       "    }\n",
       "\n",
       "    .dataframe thead th {\n",
       "        text-align: right;\n",
       "    }\n",
       "</style>\n",
       "<table border=\"1\" class=\"dataframe\">\n",
       "  <thead>\n",
       "    <tr style=\"text-align: right;\">\n",
       "      <th></th>\n",
       "      <th>Titel</th>\n",
       "      <th>Autor</th>\n",
       "    </tr>\n",
       "  </thead>\n",
       "  <tbody>\n",
       "    <tr>\n",
       "      <th>0</th>\n",
       "      <td>The Lord of the Rings</td>\n",
       "      <td>Tolkien, J.R.R.</td>\n",
       "    </tr>\n",
       "    <tr>\n",
       "      <th>1</th>\n",
       "      <td>The Bible</td>\n",
       "      <td>International Bible Society</td>\n",
       "    </tr>\n",
       "    <tr>\n",
       "      <th>2</th>\n",
       "      <td>The Pillars of the Earth</td>\n",
       "      <td>Follett, Ken</td>\n",
       "    </tr>\n",
       "    <tr>\n",
       "      <th>3</th>\n",
       "      <td>Perfume: The Story of a Murderer</td>\n",
       "      <td>Süskind, Patrick</td>\n",
       "    </tr>\n",
       "    <tr>\n",
       "      <th>4</th>\n",
       "      <td>The Little Prince</td>\n",
       "      <td>Saint-Exupéry, Antoine de</td>\n",
       "    </tr>\n",
       "  </tbody>\n",
       "</table>\n",
       "</div>"
      ],
      "text/plain": [
       "                              Titel                        Autor\n",
       "0             The Lord of the Rings              Tolkien, J.R.R.\n",
       "1                         The Bible  International Bible Society\n",
       "2          The Pillars of the Earth                 Follett, Ken\n",
       "3  Perfume: The Story of a Murderer             Süskind, Patrick\n",
       "4                 The Little Prince    Saint-Exupéry, Antoine de"
      ]
     },
     "metadata": {},
     "output_type": "display_data"
    }
   ],
   "source": [
    "display(df[[\"Titel\", \"Autor\"]].head())"
   ]
  }
 ],
 "metadata": {
  "kernelspec": {
   "display_name": "Python 3",
   "language": "python",
   "name": "python3"
  },
  "language_info": {
   "codemirror_mode": {
    "name": "ipython",
    "version": 3
   },
   "file_extension": ".py",
   "mimetype": "text/x-python",
   "name": "python",
   "nbconvert_exporter": "python",
   "pygments_lexer": "ipython3",
   "version": "3.13.3"
  }
 },
 "nbformat": 4,
 "nbformat_minor": 5
}
