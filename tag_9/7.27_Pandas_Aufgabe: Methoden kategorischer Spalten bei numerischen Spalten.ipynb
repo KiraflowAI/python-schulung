{
 "cells": [
  {
   "cell_type": "markdown",
   "id": "fc0c6d9e",
   "metadata": {},
   "source": [
    "Im folgenden liegt uns eine Bücherliste names bookstore als csv-Datei vor. Diese beinhaltet gebrauchte Bücher mit entsprechend dazu kennzeichnenden Eigenschaften.\n",
    "\n",
    "Es gibt viele Möglichkeiten, wie wir uns numerische Spalten anschauen können. Eine Möglichkeit hierbei ist bspw. die Betrachtung als kategorische Spalte. Es kann in vielen Fällen genau so von Interesse sein bspw. welches der häufigste Verkaufspreis oder das beliebteste Publikationsjahr ist.\n",
    "\n",
    "Beantworte folgende Fragen:"
   ]
  },
  {
   "cell_type": "code",
   "execution_count": 1,
   "id": "df455589",
   "metadata": {},
   "outputs": [
    {
     "data": {
      "text/html": [
       "<div>\n",
       "<style scoped>\n",
       "    .dataframe tbody tr th:only-of-type {\n",
       "        vertical-align: middle;\n",
       "    }\n",
       "\n",
       "    .dataframe tbody tr th {\n",
       "        vertical-align: top;\n",
       "    }\n",
       "\n",
       "    .dataframe thead th {\n",
       "        text-align: right;\n",
       "    }\n",
       "</style>\n",
       "<table border=\"1\" class=\"dataframe\">\n",
       "  <thead>\n",
       "    <tr style=\"text-align: right;\">\n",
       "      <th></th>\n",
       "      <th>Title</th>\n",
       "      <th>Author</th>\n",
       "      <th>Publication Year</th>\n",
       "      <th>List Price</th>\n",
       "      <th>Sale Price</th>\n",
       "      <th>Condition</th>\n",
       "    </tr>\n",
       "  </thead>\n",
       "  <tbody>\n",
       "    <tr>\n",
       "      <th>0</th>\n",
       "      <td>The Lord of the Rings</td>\n",
       "      <td>Tolkien, J.R.R.</td>\n",
       "      <td>1992</td>\n",
       "      <td>7.99</td>\n",
       "      <td>2.69</td>\n",
       "      <td>like new</td>\n",
       "    </tr>\n",
       "    <tr>\n",
       "      <th>1</th>\n",
       "      <td>The Bible</td>\n",
       "      <td>International Bible Society</td>\n",
       "      <td>2003</td>\n",
       "      <td>7.50</td>\n",
       "      <td>2.49</td>\n",
       "      <td>like new</td>\n",
       "    </tr>\n",
       "    <tr>\n",
       "      <th>2</th>\n",
       "      <td>The Pillars of the Earth</td>\n",
       "      <td>Follett, Ken</td>\n",
       "      <td>2002</td>\n",
       "      <td>19.95</td>\n",
       "      <td>1.49</td>\n",
       "      <td>very good</td>\n",
       "    </tr>\n",
       "    <tr>\n",
       "      <th>3</th>\n",
       "      <td>Perfume: The Story of a Murderer</td>\n",
       "      <td>Süskind, Patrick</td>\n",
       "      <td>2003</td>\n",
       "      <td>19.95</td>\n",
       "      <td>1.29</td>\n",
       "      <td>very good</td>\n",
       "    </tr>\n",
       "    <tr>\n",
       "      <th>4</th>\n",
       "      <td>The Little Prince</td>\n",
       "      <td>Saint-Exupéry, Antoine de</td>\n",
       "      <td>2006</td>\n",
       "      <td>24.95</td>\n",
       "      <td>2.59</td>\n",
       "      <td>good</td>\n",
       "    </tr>\n",
       "  </tbody>\n",
       "</table>\n",
       "</div>"
      ],
      "text/plain": [
       "                              Title                       Author  \\\n",
       "0             The Lord of the Rings              Tolkien, J.R.R.   \n",
       "1                         The Bible  International Bible Society   \n",
       "2          The Pillars of the Earth                 Follett, Ken   \n",
       "3  Perfume: The Story of a Murderer             Süskind, Patrick   \n",
       "4                 The Little Prince    Saint-Exupéry, Antoine de   \n",
       "\n",
       "   Publication Year  List Price  Sale Price  Condition  \n",
       "0              1992        7.99        2.69   like new  \n",
       "1              2003        7.50        2.49   like new  \n",
       "2              2002       19.95        1.49  very good  \n",
       "3              2003       19.95        1.29  very good  \n",
       "4              2006       24.95        2.59       good  "
      ]
     },
     "execution_count": 1,
     "metadata": {},
     "output_type": "execute_result"
    }
   ],
   "source": [
    "import pandas as pd\n",
    "\n",
    "df = pd.read_csv(\"bookstore.csv\")\n",
    "\n",
    "df.head()"
   ]
  },
  {
   "cell_type": "markdown",
   "id": "aac3ca08",
   "metadata": {},
   "source": [
    "Was ist das Jahr mit den häufigsten Publikationen?"
   ]
  },
  {
   "cell_type": "markdown",
   "id": "311a11c5",
   "metadata": {},
   "source": [
    "Aufgabe 1:\n",
    "\n",
    "Um das Jahr mit den meisten Publikationen herauszufinden, bietet sich die value_counts() Methode an, vor allem weil diese die Ausgabe bereits sortiert. Hier können wir direkt vom ersten Eintrag ablesen, dass im Jahr 2003 mit einer Anzahl von 6 die meisten Publikationen waren. Wenn man möchte kann man die Ausgabe durch die iloc[,] Methode auf die ersten Zeilen reduzieren. Hier braucht man nur den ersten Parameter, da man hier nur bestimmte Zeilen auswählen möchte."
   ]
  },
  {
   "cell_type": "code",
   "execution_count": 2,
   "id": "58619bfe",
   "metadata": {},
   "outputs": [
    {
     "data": {
      "text/plain": [
       "Publication Year\n",
       "2003    6\n",
       "2006    5\n",
       "2005    3\n",
       "Name: count, dtype: int64"
      ]
     },
     "metadata": {},
     "output_type": "display_data"
    }
   ],
   "source": [
    "# häufigste Publikation\n",
    "display(df.loc[:, \"Publication Year\"].value_counts().iloc[:3])"
   ]
  },
  {
   "cell_type": "markdown",
   "id": "6c513db2",
   "metadata": {},
   "source": [
    "Gibt es mehr unterschiedliche Listen- oder Verkaufspreise?"
   ]
  },
  {
   "cell_type": "markdown",
   "id": "cb808db7",
   "metadata": {},
   "source": [
    "Aufgabe 2:\n",
    "\n",
    "Die Anzahl einzigartiger Einträge findet man über die nunique() Methode heraus. Diese kann man nach der Ausgabe vergleichen und stellt fest, dass es 3 Listenpreise mehr als Verkaufspreise gibt."
   ]
  },
  {
   "cell_type": "code",
   "execution_count": 3,
   "id": "7501ef28",
   "metadata": {},
   "outputs": [
    {
     "name": "stdout",
     "output_type": "stream",
     "text": [
      "Anzahl einzigartiger Listenpreise:    11\n",
      "Anzahl einzigartiger Verkaufspreise:  8\n"
     ]
    }
   ],
   "source": [
    "print(\"Anzahl einzigartiger Listenpreise:   \", df.loc[:, \"List Price\"].nunique())\n",
    "print(\"Anzahl einzigartiger Verkaufspreise: \", df.loc[:, \"Sale Price\"].nunique())"
   ]
  },
  {
   "cell_type": "markdown",
   "id": "0cc27c5d",
   "metadata": {},
   "source": [
    "Vergleiche den häufigsten Listenpreis mit dem häufigsten Verkaufspreis."
   ]
  },
  {
   "cell_type": "markdown",
   "id": "53c5a3cf",
   "metadata": {},
   "source": [
    "Aufgabe 3:\n",
    "Genau wie bei Aufgabe 1 kann man hier die value_counts() Methode benutzen. Hierdurch kann man feststellen, dass der häufigste Listenpreis 8 mal 7.99 und der häufigste Verkaufspreis 15 mal 1.29 ist. D.h. der häufigste Verkaufspreis kommt fast doppelt so oft vor, wie der häufigste Listenpreis. Bei nur 30 Zeilen heißt dass, dass die Hälfte der Bücher für 1.29 verkauft werden."
   ]
  },
  {
   "cell_type": "code",
   "execution_count": 4,
   "id": "09531d0d",
   "metadata": {},
   "outputs": [
    {
     "data": {
      "text/plain": [
       "List Price\n",
       "7.99    8\n",
       "6.99    6\n",
       "7.50    3\n",
       "Name: count, dtype: int64"
      ]
     },
     "metadata": {},
     "output_type": "display_data"
    },
    {
     "data": {
      "text/plain": [
       "Sale Price\n",
       "1.29    15\n",
       "1.49     4\n",
       "2.49     3\n",
       "Name: count, dtype: int64"
      ]
     },
     "metadata": {},
     "output_type": "display_data"
    }
   ],
   "source": [
    "# Häufigster Listen- und Verkaufspreis \n",
    "display(df.loc[:, \"List Price\"].value_counts().iloc[:3])\n",
    "display(df.loc[:, \"Sale Price\"].value_counts().iloc[:3])"
   ]
  }
 ],
 "metadata": {
  "kernelspec": {
   "display_name": "Python 3",
   "language": "python",
   "name": "python3"
  },
  "language_info": {
   "codemirror_mode": {
    "name": "ipython",
    "version": 3
   },
   "file_extension": ".py",
   "mimetype": "text/x-python",
   "name": "python",
   "nbconvert_exporter": "python",
   "pygments_lexer": "ipython3",
   "version": "3.13.3"
  }
 },
 "nbformat": 4,
 "nbformat_minor": 5
}
