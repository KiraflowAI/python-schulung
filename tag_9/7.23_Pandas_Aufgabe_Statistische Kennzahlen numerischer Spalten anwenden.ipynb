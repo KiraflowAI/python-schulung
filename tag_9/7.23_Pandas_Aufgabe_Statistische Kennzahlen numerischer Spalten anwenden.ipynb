{
 "cells": [
  {
   "cell_type": "markdown",
   "id": "01420007",
   "metadata": {},
   "source": [
    "Im folgenden liegt uns eine Bücherliste names bookstore als csv-Datei vor. Diese beinhaltet gebrauchte Bücher mit entsprechend dazu kennzeichnenden Eigenschaften.\n",
    "\n",
    "Es lassen sich sehr schnell einige Fragen, ohne große Vorbearbeitung dieses Datensatzes, beantworten:"
   ]
  },
  {
   "cell_type": "code",
   "execution_count": 1,
   "id": "7599adad",
   "metadata": {},
   "outputs": [],
   "source": [
    "import pandas as pd\n",
    "df = pd.read_csv('bookstore.csv')"
   ]
  },
  {
   "cell_type": "markdown",
   "id": "16c08e60",
   "metadata": {},
   "source": [
    "Nutze die Methoden min() und max() um den Zeitraum zu berechnen.\n",
    "(optional: )Schaue dir für die Überlegung an, wie der Mittelwert und der Median bestimmt werden.\n",
    "Vergleiche die Anzahl der vorhandenen Zahlen mit der Anzahl an Zeilen.\n",
    "Speichere alle Standardabweichungen in einer Liste und suche in dieser die größte heraus."
   ]
  },
  {
   "cell_type": "markdown",
   "id": "83d3c149",
   "metadata": {},
   "source": [
    "Wie groß ist der Zeitraum in dem die gelisteten Bücher publiziert wurden?\n",
    "\n",
    "Allgemein lässt sich die länge eines Zeitraumes berechnen, indem wir den kleinsten (zeitlich ersten) von dem größten (zeitlich letzten) Eintrag abziehen. Hierfür bieten sich die min() und max() Methoden an. Hierbei haben wir dann auch die Wahl ob wir die Ausgaben dieser Methoden in Variablen zwischenspeichern, oder die gesamte Rechnung in einer einzigen Zeile ausführen."
   ]
  },
  {
   "cell_type": "code",
   "execution_count": 2,
   "id": "63ea76cd",
   "metadata": {},
   "outputs": [
    {
     "name": "stdout",
     "output_type": "stream",
     "text": [
      "Zeitraum:  28 Jahre\n",
      "Zeitraum:  28 Jahre\n",
      "Zeitraum:  28 Jahre\n"
     ]
    }
   ],
   "source": [
    "# Variante 1\n",
    "publication_year_max = df.loc[:, \"Publication Year\"].max() \n",
    "publication_year_min = df.loc[:, \"Publication Year\"].min()\n",
    "period_of_time = publication_year_max - publication_year_min\n",
    "print(\"Zeitraum: \", period_of_time, \"Jahre\") \n",
    "\n",
    "# Variante 2\n",
    "print(\"Zeitraum: \", df.loc[:, \"Publication Year\"].max() - df.loc[:, \"Publication Year\"].min(), \"Jahre\") \n",
    "\n",
    "# Kurzschreibweise\n",
    "print(\"Zeitraum: \", df[\"Publication Year\"].max() - df[\"Publication Year\"].min(), \"Jahre\") \n"
   ]
  },
  {
   "cell_type": "markdown",
   "id": "39a95f06",
   "metadata": {},
   "source": [
    "Wie groß ist der Unterschied zwischen dem Mittelwert und dem Median der Spalte \"List Price\"? (optional: Überlege/finde heraus wie dieser Unterschied zustande kommt)\n",
    "\n",
    "\n",
    "Unterschied Mittelwert und Median\n",
    "\n",
    "Der Mittelwert und der Median einer Spalte lassen sich über die mean() und median() Methoden bestimmen. Auch hier können wir die Ergebnisse zwischenspeichern oder auch nicht. Es lässt sich hier zwischen dem Mittelwert und dem Median einen großen Unterschied feststellen.\n",
    "\n",
    "(optional:) Um sich zu überlegen woher dieser Unterschied kommt, müssen wir uns zunächst anschauen wie der Mittelwert und der Median bestimmt werden.\n",
    "\n",
    "Median: Die Zahl in der Mitte wenn alle Zahlen der Größe nach angeordnet werden\n",
    "Mittelwert: Alle Zahlen addiert und durch die Anzahl der Zahlen geteilt.\n",
    "Wenn wir uns die gesamten Bücher anschauen, stellen wir fest, dass es 8 Bücher gibt, die deutlich teurer sind als die anderen, sie kosten in der Regel über 20. Hingegen alle anderen Bücher kosten weniger als 10.\n",
    "\n",
    "Bei der Bestimmung des Medians werden zwar die 8 teuren Bücher berücksichtigt, allerdings durch die geringe Anzahl kann der Median nur ein Wert von den günstigeren Büchern annehmen. Der Mittelwert hingegen wird durch das Summieren aller Listenpreise stark von den teuren Büchern beeinflusst und ist dadurch am Ende deutlich größer als der Median."
   ]
  },
  {
   "cell_type": "code",
   "execution_count": 3,
   "id": "ef7514bd",
   "metadata": {},
   "outputs": [
    {
     "name": "stdout",
     "output_type": "stream",
     "text": [
      "Mittelwert:  11.679333333333334\n",
      "Median:      7.99\n",
      "Differenz:   3.689333333333334\n",
      "Mittelwert:  11.679333333333334\n",
      "Median:      7.99\n",
      "Differenz:   3.689333333333334\n",
      "Mittelwert:  11.679333333333334\n",
      "Median:      7.99\n",
      "Differenz:   3.689333333333334\n"
     ]
    }
   ],
   "source": [
    "list_price_mean = df.loc[:, \"List Price\"].mean()\n",
    "list_price_median = df.loc[:, \"List Price\"].median()\n",
    "list_price_differenz = list_price_mean - list_price_median\n",
    "print(\"Mittelwert: \", list_price_mean)\n",
    "print(\"Median:     \", list_price_median)\n",
    "print(\"Differenz:  \", list_price_differenz)\n",
    "\n",
    "# Variante 2\n",
    "print(\"Mittelwert: \", df.loc[:, \"List Price\"].mean())\n",
    "print(\"Median:     \", df.loc[:, \"List Price\"].median())\n",
    "print(\"Differenz:  \", df.loc[:, \"List Price\"].mean() - df.loc[:, \"List Price\"].median())\n",
    "\n",
    "# Kurzschreibweise\n",
    "print(\"Mittelwert: \", df[\"List Price\"].mean())\n",
    "print(\"Median:     \", df[\"List Price\"].median())\n",
    "print(\"Differenz:  \", df[\"List Price\"].mean() - df[\"List Price\"].median())"
   ]
  },
  {
   "cell_type": "code",
   "execution_count": null,
   "id": "a3805af4",
   "metadata": {},
   "outputs": [],
   "source": [
    "Gibt es fehlende Zahlen in den numerischen Spalten?"
   ]
  },
  {
   "cell_type": "markdown",
   "id": "66ef8849",
   "metadata": {},
   "source": [
    "Fehlende Zahlen kann man auf verschiedene Weisen herausfinden. Hierfür werden später noch weitere Methoden benutzt. Eine Möglichkeit festzustelllen ob Zahlen fehlen ist über die count() Methode. Diese zählt alle Werte einer Spalte.\n",
    "\n",
    "Nun gibt es die Möglichkeit die Anzahl der Werte aller numerischen Spalten und die Anzahl der Zeilen auszugeben, um sie zu vergleichen, oder man zieht diese einfach voneinander ab und erhält andersherum die Anzahl der fehlenden Werte."
   ]
  },
  {
   "cell_type": "code",
   "execution_count": 4,
   "id": "beb58e5b",
   "metadata": {},
   "outputs": [
    {
     "name": "stdout",
     "output_type": "stream",
     "text": [
      "Zeilenzahl:        30\n",
      "Publication Year:  30\n",
      "List Price:        30\n",
      "Sale Price:        30\n",
      "Zeilenzahl:        30\n",
      "Publication Year:  30\n",
      "List Price:        30\n",
      "Sale Price:        30\n",
      "Fehlende Werte - Publication Year:  0\n",
      "Fehlende Werte - List Price:        0\n",
      "Fehlende Werte - Sale Price:        0\n",
      "Fehlende Werte - Publication Year:  0\n",
      "Fehlende Werte - List Price:        0\n",
      "Fehlende Werte - Sale Price:        0\n"
     ]
    }
   ],
   "source": [
    "# Variante 1\n",
    "print(\"Zeilenzahl:       \", df.shape[0])\n",
    "print(\"Publication Year: \", df.loc[:, \"Publication Year\"].count())\n",
    "print(\"List Price:       \", df.loc[:, \"List Price\"].count())\n",
    "print(\"Sale Price:       \", df.loc[:, \"Sale Price\"].count())\n",
    "\n",
    "# Kurzschreibweise:\n",
    "print(\"Zeilenzahl:       \", df.shape[0])\n",
    "print(\"Publication Year: \", df[\"Publication Year\"].count())\n",
    "print(\"List Price:       \", df[\"List Price\"].count())\n",
    "print(\"Sale Price:       \", df[\"Sale Price\"].count())\n",
    "\n",
    "# Variante 2\n",
    "print(\"Fehlende Werte - Publication Year: \", df.shape[0] - df.loc[:, \"Publication Year\"].count())\n",
    "print(\"Fehlende Werte - List Price:       \", df.shape[0] - df.loc[:, \"List Price\"].count())\n",
    "print(\"Fehlende Werte - Sale Price:       \", df.shape[0] - df.loc[:, \"Sale Price\"].count())\n",
    "\n",
    "# Kurzschreibweise:\n",
    "print(\"Fehlende Werte - Publication Year: \", df.shape[0] - df[\"Publication Year\"].count())\n",
    "print(\"Fehlende Werte - List Price:       \", df.shape[0] - df[\"List Price\"].count())\n",
    "print(\"Fehlende Werte - Sale Price:       \", df.shape[0] - df[\"Sale Price\"].count())\n"
   ]
  },
  {
   "cell_type": "markdown",
   "id": "ea6f22ea",
   "metadata": {},
   "source": [
    "Welches ist die Größte Standardabweichung aus den numerischen Spalten?"
   ]
  },
  {
   "cell_type": "markdown",
   "id": "3f2d0c5d",
   "metadata": {},
   "source": [
    "Ähnlich wie zuvor kann man sich auch hier über die std() Methode alle Standardabweichungen ausgeben lassen um sie anschließend zu vergleichen. Alternativ kann man auch alle Standardabweichungen in einer Liste zusammenfassen und die max() Funktion auf diese anwenden.\n",
    "\n",
    "Ein Nachteil hat diese Variante allerdings: Wir erhalten nur die größte Standardabweichung, aber nicht den Namen der Spalte."
   ]
  },
  {
   "cell_type": "code",
   "execution_count": 5,
   "id": "d35b76a7",
   "metadata": {},
   "outputs": [
    {
     "name": "stdout",
     "output_type": "stream",
     "text": [
      "Publication Year:  6.284079500803105\n",
      "List Price:        7.406566021435646\n",
      "Sale Price:        0.5006777016400272\n",
      "Größte Standardabweichung:  7.406566021435646\n",
      "Größte Standardabweichung:  7.406566021435646\n"
     ]
    }
   ],
   "source": [
    "# Variante 1\n",
    "print(\"Publication Year: \", df.loc[:, \"Publication Year\"].std())\n",
    "print(\"List Price:       \", df.loc[:, \"List Price\"].std())\n",
    "print(\"Sale Price:       \", df.loc[:, \"Sale Price\"].std())\n",
    "\n",
    "# Variante 2\n",
    "std_list = [df.loc[:, \"Publication Year\"].std(), \n",
    "            df.loc[:, \"List Price\"].std(), \n",
    "            df.loc[:, \"Sale Price\"].std()]\n",
    "print(\"Größte Standardabweichung: \", max(std_list))\n",
    "\n",
    "# Kurzschreibweise:\n",
    "std_list = [df[\"Publication Year\"].std(), \n",
    "            df[\"List Price\"].std(), \n",
    "            df[\"Sale Price\"].std()]\n",
    "print(\"Größte Standardabweichung: \", max(std_list))\n"
   ]
  }
 ],
 "metadata": {
  "kernelspec": {
   "display_name": "Python 3",
   "language": "python",
   "name": "python3"
  },
  "language_info": {
   "codemirror_mode": {
    "name": "ipython",
    "version": 3
   },
   "file_extension": ".py",
   "mimetype": "text/x-python",
   "name": "python",
   "nbconvert_exporter": "python",
   "pygments_lexer": "ipython3",
   "version": "3.13.3"
  }
 },
 "nbformat": 4,
 "nbformat_minor": 5
}
