{
 "cells": [
  {
   "cell_type": "markdown",
   "id": "dc16c2ae",
   "metadata": {},
   "source": [
    "Im folgenden liegt uns eine Bücherliste names bookstore als csv-Datei vor. Diese beinhaltet gebrauchte Bücher mit entsprechend dazu kennzeichnenden Eigenschaften.\n",
    "\n",
    "Je größer die Anzahl an Büchern in dieser List ist, desto größer ist auch die Wahrscheinlichkeit, dass ein Buch doppelt vorkommt. Genauso ist es natürlich auch möglich, dass es zwei verschiedene Bücher gibt, die von ein und dem selben Autor geschrieben wurden.\n",
    "\n",
    "Überprüfe ob wir doppelte Einträge in unserer Liste haben, sowohl für die Spalte \"Title\", als auch für die Spalte \"Author\". Orientiere dich dabei an folgendem Vorgehen:"
   ]
  },
  {
   "cell_type": "code",
   "execution_count": 5,
   "id": "0e0cea73",
   "metadata": {},
   "outputs": [
    {
     "data": {
      "text/html": [
       "<div>\n",
       "<style scoped>\n",
       "    .dataframe tbody tr th:only-of-type {\n",
       "        vertical-align: middle;\n",
       "    }\n",
       "\n",
       "    .dataframe tbody tr th {\n",
       "        vertical-align: top;\n",
       "    }\n",
       "\n",
       "    .dataframe thead th {\n",
       "        text-align: right;\n",
       "    }\n",
       "</style>\n",
       "<table border=\"1\" class=\"dataframe\">\n",
       "  <thead>\n",
       "    <tr style=\"text-align: right;\">\n",
       "      <th></th>\n",
       "      <th>Title</th>\n",
       "      <th>Author</th>\n",
       "      <th>Publication Year</th>\n",
       "      <th>List Price</th>\n",
       "      <th>Sale Price</th>\n",
       "      <th>Condition</th>\n",
       "    </tr>\n",
       "  </thead>\n",
       "  <tbody>\n",
       "    <tr>\n",
       "      <th>0</th>\n",
       "      <td>The Lord of the Rings</td>\n",
       "      <td>Tolkien, J.R.R.</td>\n",
       "      <td>1992</td>\n",
       "      <td>7.99</td>\n",
       "      <td>2.69</td>\n",
       "      <td>like new</td>\n",
       "    </tr>\n",
       "    <tr>\n",
       "      <th>1</th>\n",
       "      <td>The Bible</td>\n",
       "      <td>International Bible Society</td>\n",
       "      <td>2003</td>\n",
       "      <td>7.50</td>\n",
       "      <td>2.49</td>\n",
       "      <td>like new</td>\n",
       "    </tr>\n",
       "    <tr>\n",
       "      <th>2</th>\n",
       "      <td>The Pillars of the Earth</td>\n",
       "      <td>Follett, Ken</td>\n",
       "      <td>2002</td>\n",
       "      <td>19.95</td>\n",
       "      <td>1.49</td>\n",
       "      <td>very good</td>\n",
       "    </tr>\n",
       "    <tr>\n",
       "      <th>3</th>\n",
       "      <td>Perfume: The Story of a Murderer</td>\n",
       "      <td>Süskind, Patrick</td>\n",
       "      <td>2003</td>\n",
       "      <td>19.95</td>\n",
       "      <td>1.29</td>\n",
       "      <td>very good</td>\n",
       "    </tr>\n",
       "    <tr>\n",
       "      <th>4</th>\n",
       "      <td>The Little Prince</td>\n",
       "      <td>Saint-Exupéry, Antoine de</td>\n",
       "      <td>2006</td>\n",
       "      <td>24.95</td>\n",
       "      <td>2.59</td>\n",
       "      <td>good</td>\n",
       "    </tr>\n",
       "  </tbody>\n",
       "</table>\n",
       "</div>"
      ],
      "text/plain": [
       "                              Title                       Author  \\\n",
       "0             The Lord of the Rings              Tolkien, J.R.R.   \n",
       "1                         The Bible  International Bible Society   \n",
       "2          The Pillars of the Earth                 Follett, Ken   \n",
       "3  Perfume: The Story of a Murderer             Süskind, Patrick   \n",
       "4                 The Little Prince    Saint-Exupéry, Antoine de   \n",
       "\n",
       "   Publication Year  List Price  Sale Price  Condition  \n",
       "0              1992        7.99        2.69   like new  \n",
       "1              2003        7.50        2.49   like new  \n",
       "2              2002       19.95        1.49  very good  \n",
       "3              2003       19.95        1.29  very good  \n",
       "4              2006       24.95        2.59       good  "
      ]
     },
     "execution_count": 5,
     "metadata": {},
     "output_type": "execute_result"
    }
   ],
   "source": [
    "import pandas as pd\n",
    "\n",
    "df = pd.read_csv(\"bookstore.csv\")\n",
    "\n",
    "df.head()"
   ]
  },
  {
   "cell_type": "markdown",
   "id": "fb1a4742",
   "metadata": {},
   "source": [
    "Wie viele unterschiedliche Einträge gibt es?"
   ]
  },
  {
   "cell_type": "markdown",
   "id": "50892f81",
   "metadata": {},
   "source": [
    "Zum Überprüfen, ob doppelte Einträge vorliegen, bietet sich die nunique() Methode an. Diese gibt die Anzahl an einzigartigen Einträgen aus. Da wir in der Spalte \"Title\" genau so viele einzigartige Einträge, wie Anzahl Zeilen haben (=30), haben wir keinen einzigen Eintrag doppelt.\n",
    "\n",
    "In der Spalte \"Author\" hingegen haben wir nur 27 einzigartige Einträge, weshalb hier doppelte Einträge sein müssen. Diese können wir im zweiten Schritt mithilfe der value_counts() Methode finden. Zu unserem Vorteil ist auch, dass die Ausgabe von value_counts() bereits vorsortiert ist, wodurch wir direkt sehen können dass Thomas Mann, Hermann Hesse und J.K. Rowling doppelt vertreten sind."
   ]
  },
  {
   "cell_type": "code",
   "execution_count": null,
   "id": "91fa5989",
   "metadata": {},
   "outputs": [
    {
     "name": "stdout",
     "output_type": "stream",
     "text": [
      "Einzigartige Einträge - Title:  30\n",
      "Einzigartige Einträge - Author:  27\n"
     ]
    },
    {
     "data": {
      "text/plain": [
       "Author\n",
       "Mann, Thomas                   2\n",
       "Hesse, Hermann                 2\n",
       "Rowling, J.K.                  2\n",
       "Tolkien, J.R.R.                1\n",
       "Ruiz Zafón, Carlos             1\n",
       "McCourt, Frank                 1\n",
       "Hahn, Ulla                     1\n",
       "Ende, Michael                  1\n",
       "Mulisch, Harry                 1\n",
       "Mitchell, Margaret             1\n",
       "Fontane, Theodor               1\n",
       "Brown, Dan                     1\n",
       "Eco, Umberto                   1\n",
       "Austen, Jane                   1\n",
       "Schlink, Bernhard              1\n",
       "Goethe, Johann Wolfgang von    1\n",
       "International Bible Society    1\n",
       "Allende, Isabel                1\n",
       "Gabaldon, Diana                1\n",
       "Funke, Cornelia                1\n",
       "Cross, Donna W.                1\n",
       "Coelho, Paulo                  1\n",
       "Gordon, Noah                   1\n",
       "Saint-Exupéry, Antoine de      1\n",
       "Süskind, Patrick               1\n",
       "Follett, Ken                   1\n",
       "Zimmer Bradley, Marion         1\n",
       "Name: count, dtype: int64"
      ]
     },
     "metadata": {},
     "output_type": "display_data"
    }
   ],
   "source": [
    "# einzigartige Einträge\n",
    "print(\"Einzigartige Einträge - Title: \", df.loc[:, \"Title\"].nunique())     # KEINE Dopplung, da gleich der Zeilenanzahl\n",
    "print(\"Einzigartige Einträge - Author: \", df.loc[:, \"Author\"].nunique())    # Dopplung, da weniger als Zeilenanzahl\n",
    "\n",
    "# doppelte Einträge\n",
    "display(df.loc[:, \"Author\"].value_counts()) # value counts steht für doppelt\n"
   ]
  },
  {
   "cell_type": "markdown",
   "id": "22641498",
   "metadata": {},
   "source": [
    "KURZSCHREIBWEISE"
   ]
  },
  {
   "cell_type": "code",
   "execution_count": 4,
   "id": "73ccf96f",
   "metadata": {},
   "outputs": [
    {
     "name": "stdout",
     "output_type": "stream",
     "text": [
      "Einzigartige Einträge - Title:   30\n",
      "Einzigartige Einträge - Author:  27\n"
     ]
    },
    {
     "data": {
      "text/plain": [
       "Author\n",
       "Mann, Thomas                   2\n",
       "Hesse, Hermann                 2\n",
       "Rowling, J.K.                  2\n",
       "Tolkien, J.R.R.                1\n",
       "Ruiz Zafón, Carlos             1\n",
       "McCourt, Frank                 1\n",
       "Hahn, Ulla                     1\n",
       "Ende, Michael                  1\n",
       "Mulisch, Harry                 1\n",
       "Mitchell, Margaret             1\n",
       "Fontane, Theodor               1\n",
       "Brown, Dan                     1\n",
       "Eco, Umberto                   1\n",
       "Austen, Jane                   1\n",
       "Schlink, Bernhard              1\n",
       "Goethe, Johann Wolfgang von    1\n",
       "International Bible Society    1\n",
       "Allende, Isabel                1\n",
       "Gabaldon, Diana                1\n",
       "Funke, Cornelia                1\n",
       "Cross, Donna W.                1\n",
       "Coelho, Paulo                  1\n",
       "Gordon, Noah                   1\n",
       "Saint-Exupéry, Antoine de      1\n",
       "Süskind, Patrick               1\n",
       "Follett, Ken                   1\n",
       "Zimmer Bradley, Marion         1\n",
       "Name: count, dtype: int64"
      ]
     },
     "metadata": {},
     "output_type": "display_data"
    }
   ],
   "source": [
    "# einzigartige Einträge\n",
    "print(\"Einzigartige Einträge - Title:  \", df[\"Title\"].nunique())     # KEINE Dopplung, da gleich der Zeilenanzahl\n",
    "print(\"Einzigartige Einträge - Author: \", df[\"Author\"].nunique())    # Dopplung, da weniger als Zeilenanzahl\n",
    "\n",
    "# doppelte Einträge\n",
    "display(df[\"Author\"].value_counts())\n"
   ]
  }
 ],
 "metadata": {
  "kernelspec": {
   "display_name": "Python 3",
   "language": "python",
   "name": "python3"
  },
  "language_info": {
   "codemirror_mode": {
    "name": "ipython",
    "version": 3
   },
   "file_extension": ".py",
   "mimetype": "text/x-python",
   "name": "python",
   "nbconvert_exporter": "python",
   "pygments_lexer": "ipython3",
   "version": "3.13.3"
  }
 },
 "nbformat": 4,
 "nbformat_minor": 5
}
