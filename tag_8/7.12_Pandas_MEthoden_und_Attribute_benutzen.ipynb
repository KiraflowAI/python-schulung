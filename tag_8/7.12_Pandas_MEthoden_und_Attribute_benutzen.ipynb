{
 "cells": [
  {
   "cell_type": "markdown",
   "id": "64f63254",
   "metadata": {},
   "source": [
    "Im folgenden liegt uns eine Bücherliste names bookstore als csv-Datei vor. Diese beinhaltet gebrauchte Bücher mit entsprechend dazu kennzeichnenden Eigenschaften.\n",
    "\n",
    "Benutze die Methoden und Attribute\n",
    "\n",
    "df.head()\n",
    "df.tail()\n",
    "df.index\n",
    "df.columns\n",
    "df.shape\n",
    "um folgende Aufgaben zu bearbeiten:\n",
    "\n",
    "Aufgabe 1:\n",
    "\n",
    "Die ersten 2 Zeilen und die letzten beiden Zeilen sollen ausgegeben werden."
   ]
  },
  {
   "cell_type": "code",
   "execution_count": null,
   "id": "9a644f97",
   "metadata": {},
   "outputs": [],
   "source": [
    "import pandas as pd"
   ]
  },
  {
   "cell_type": "code",
   "execution_count": 1,
   "id": "cd6150f2",
   "metadata": {},
   "outputs": [
    {
     "data": {
      "text/html": [
       "<div>\n",
       "<style scoped>\n",
       "    .dataframe tbody tr th:only-of-type {\n",
       "        vertical-align: middle;\n",
       "    }\n",
       "\n",
       "    .dataframe tbody tr th {\n",
       "        vertical-align: top;\n",
       "    }\n",
       "\n",
       "    .dataframe thead th {\n",
       "        text-align: right;\n",
       "    }\n",
       "</style>\n",
       "<table border=\"1\" class=\"dataframe\">\n",
       "  <thead>\n",
       "    <tr style=\"text-align: right;\">\n",
       "      <th></th>\n",
       "      <th>Title</th>\n",
       "      <th>Author</th>\n",
       "      <th>Publication Year</th>\n",
       "      <th>List Price</th>\n",
       "      <th>Sale Price</th>\n",
       "      <th>Condition</th>\n",
       "    </tr>\n",
       "  </thead>\n",
       "  <tbody>\n",
       "    <tr>\n",
       "      <th>0</th>\n",
       "      <td>The Lord of the Rings</td>\n",
       "      <td>Tolkien, J.R.R.</td>\n",
       "      <td>1992</td>\n",
       "      <td>7.99</td>\n",
       "      <td>2.69</td>\n",
       "      <td>like new</td>\n",
       "    </tr>\n",
       "    <tr>\n",
       "      <th>1</th>\n",
       "      <td>The Bible</td>\n",
       "      <td>International Bible Society</td>\n",
       "      <td>2003</td>\n",
       "      <td>7.50</td>\n",
       "      <td>2.49</td>\n",
       "      <td>like new</td>\n",
       "    </tr>\n",
       "  </tbody>\n",
       "</table>\n",
       "</div>"
      ],
      "text/plain": [
       "                   Title                       Author  Publication Year  \\\n",
       "0  The Lord of the Rings              Tolkien, J.R.R.              1992   \n",
       "1              The Bible  International Bible Society              2003   \n",
       "\n",
       "   List Price  Sale Price Condition  \n",
       "0        7.99        2.69  like new  \n",
       "1        7.50        2.49  like new  "
      ]
     },
     "metadata": {},
     "output_type": "display_data"
    },
    {
     "data": {
      "text/html": [
       "<div>\n",
       "<style scoped>\n",
       "    .dataframe tbody tr th:only-of-type {\n",
       "        vertical-align: middle;\n",
       "    }\n",
       "\n",
       "    .dataframe tbody tr th {\n",
       "        vertical-align: top;\n",
       "    }\n",
       "\n",
       "    .dataframe thead th {\n",
       "        text-align: right;\n",
       "    }\n",
       "</style>\n",
       "<table border=\"1\" class=\"dataframe\">\n",
       "  <thead>\n",
       "    <tr style=\"text-align: right;\">\n",
       "      <th></th>\n",
       "      <th>Title</th>\n",
       "      <th>Author</th>\n",
       "      <th>Publication Year</th>\n",
       "      <th>List Price</th>\n",
       "      <th>Sale Price</th>\n",
       "      <th>Condition</th>\n",
       "    </tr>\n",
       "  </thead>\n",
       "  <tbody>\n",
       "    <tr>\n",
       "      <th>28</th>\n",
       "      <td>Narcissus and Goldmund</td>\n",
       "      <td>Hesse, Hermann</td>\n",
       "      <td>2004</td>\n",
       "      <td>6.99</td>\n",
       "      <td>1.29</td>\n",
       "      <td>like new</td>\n",
       "    </tr>\n",
       "    <tr>\n",
       "      <th>29</th>\n",
       "      <td>The Mists of Avalon</td>\n",
       "      <td>Zimmer Bradley, Marion</td>\n",
       "      <td>2000</td>\n",
       "      <td>5.99</td>\n",
       "      <td>1.29</td>\n",
       "      <td>very good</td>\n",
       "    </tr>\n",
       "  </tbody>\n",
       "</table>\n",
       "</div>"
      ],
      "text/plain": [
       "                     Title                  Author  Publication Year  \\\n",
       "28  Narcissus and Goldmund          Hesse, Hermann              2004   \n",
       "29     The Mists of Avalon  Zimmer Bradley, Marion              2000   \n",
       "\n",
       "    List Price  Sale Price  Condition  \n",
       "28        6.99        1.29   like new  \n",
       "29        5.99        1.29  very good  "
      ]
     },
     "metadata": {},
     "output_type": "display_data"
    }
   ],
   "source": [
    "import pandas as pd\n",
    "\n",
    "df = pd.read_csv(\"bookstore.csv\")\n",
    "\n",
    "# Aufgabe 1\n",
    "display(df.head(2))\n",
    "display(df.tail(2))\n"
   ]
  },
  {
   "cell_type": "markdown",
   "id": "f7a849b6",
   "metadata": {},
   "source": [
    "Aufgabe 1:\n",
    "\n",
    "Hier bieten sich die Methoden df.head() und df.tail() an, deren Parameter zur Anzahl an ausgegebenen Zeilen auf 2 gesetzt werden muss. Auf diese Weise haben wir dann zwei Ausgaben.\n",
    "\n",
    "Es gibt Möglichkeiten diese Zeilen in einen neuen DataFrame zusammezuführen, allerdings ist das für die reine Ausgabe hier nicht notwendig."
   ]
  },
  {
   "cell_type": "markdown",
   "id": "2256606e",
   "metadata": {},
   "source": [
    "Aufgabe 2:\n",
    "\n",
    "Die Spaltenbeizeichung der aller ersten Spalte soll ausgegeben werden"
   ]
  },
  {
   "cell_type": "code",
   "execution_count": 2,
   "id": "0be64af4",
   "metadata": {},
   "outputs": [
    {
     "name": "stdout",
     "output_type": "stream",
     "text": [
      "Title\n"
     ]
    }
   ],
   "source": [
    "print(df.columns[0])"
   ]
  },
  {
   "cell_type": "markdown",
   "id": "7f44e1ef",
   "metadata": {},
   "source": [
    "Aufgabe 2:\n",
    "\n",
    "Hier bietet sich an auf das Attribut df.columns zuzugreifen. Dieses gibt allerdings alle Spaltenbezeichnungen aus, nicht nur die erste.\n",
    "\n",
    "Zum Glück lässt sich mit df.columns ähnlich wie mit Listen umgehen, wodurch wir mit df.columns[0] auf den ersten Eintrag zugreifen können"
   ]
  },
  {
   "cell_type": "markdown",
   "id": "c797d6a9",
   "metadata": {},
   "source": [
    "Was ist die letzte Indexbezeichnung der Zeilenindizes?"
   ]
  },
  {
   "cell_type": "code",
   "execution_count": 3,
   "id": "8cf71ce1",
   "metadata": {},
   "outputs": [
    {
     "name": "stdout",
     "output_type": "stream",
     "text": [
      "29\n"
     ]
    }
   ],
   "source": [
    "print(df.index[-1])"
   ]
  },
  {
   "cell_type": "markdown",
   "id": "b1ed2097",
   "metadata": {},
   "source": [
    "oder"
   ]
  },
  {
   "cell_type": "code",
   "execution_count": 4,
   "id": "f1a1efdc",
   "metadata": {},
   "outputs": [
    {
     "name": "stdout",
     "output_type": "stream",
     "text": [
      "29\n"
     ]
    }
   ],
   "source": [
    "print(df.index[29])"
   ]
  },
  {
   "cell_type": "markdown",
   "id": "e94cc6f9",
   "metadata": {},
   "source": [
    "Aufgabe 3:\n",
    "\n",
    "Hier bietet sich an auf das Attribut df.index zuzugreifen. Genau wie bei df.columns können wir hier auch ähnlich wie mit Listen arbeiten.\n",
    "\n",
    "Es gibt hierdurch die Möglichkeit durch df.index[-1] auf den letzten Eintrag zuzugreifen. Alternativ kann man auch df.index[29] nutzen, wenn man weiß, dass wir 30 Zeilen haben."
   ]
  }
 ],
 "metadata": {
  "kernelspec": {
   "display_name": "Python 3",
   "language": "python",
   "name": "python3"
  },
  "language_info": {
   "codemirror_mode": {
    "name": "ipython",
    "version": 3
   },
   "file_extension": ".py",
   "mimetype": "text/x-python",
   "name": "python",
   "nbconvert_exporter": "python",
   "pygments_lexer": "ipython3",
   "version": "3.13.3"
  }
 },
 "nbformat": 4,
 "nbformat_minor": 5
}
