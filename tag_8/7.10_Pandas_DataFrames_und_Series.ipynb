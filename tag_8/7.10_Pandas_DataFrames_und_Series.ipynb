{
 "cells": [
  {
   "cell_type": "code",
   "execution_count": 1,
   "id": "1e7c3078",
   "metadata": {},
   "outputs": [],
   "source": [
    "import pandas as pd"
   ]
  },
  {
   "cell_type": "code",
   "execution_count": 2,
   "id": "51b97e1a",
   "metadata": {},
   "outputs": [],
   "source": [
    "df = pd.read_csv('bookstore.csv')"
   ]
  },
  {
   "cell_type": "markdown",
   "id": "12d45afe",
   "metadata": {},
   "source": [
    "DataFrames und Series sind Objekte aus pandas, die einfach ausgedrück unsere Daten enthalten.\n",
    "\n",
    "Ein DataFrame ist hierbei eine Tabelle, wie man sie aus Excel kennt und lässt sich genauso in Zeilen (index) und Spalten (columns) einordnen. Jeder DataFrame ist hierbei ein 2-Dimensionales Objekt und setzt sich aus ein oder mehreren Series zusammen. Diese sind vergleichbar mit einer einzelnen Spalte bzw. mit einer einzelnen Zeile und ist dementsprechend ein 1-dimensionales Objekt.\n",
    "\n",
    "Wichtig: Es ist ein Unterschied, ob wir eine Series haben mit 100 Einträgen oder einen DataFrame mit 1 x 100 Einträgen. Der Inhalt ist zwar der Selbe, allerdings sind sie als verschiedene Objekte in pandas implementiert und viele Funktionen und Methoden funktionieren nur mit einem bestimmten der beiden Formate!"
   ]
  },
  {
   "cell_type": "markdown",
   "id": "eec27d1e",
   "metadata": {},
   "source": [
    "DATA FRAME ANSCHAUEN"
   ]
  },
  {
   "cell_type": "markdown",
   "id": "b99eb732",
   "metadata": {},
   "source": [
    "Zu den ersten Schritten bei der Analyse von Daten gehört das Verstehen der Daten und dies fängt bereits beim simplen anschauen der Tabelle an. Ein DataFrame kann allerdings sehr viele Zeilen besitzen, weshalb man sich meist nur einzelne wenige Zeilen anschaut.\n",
    "\n",
    "Wichtig: display() sorgt bei einem DataFrame für eine schönere Ausgabe als print()"
   ]
  },
  {
   "cell_type": "code",
   "execution_count": 3,
   "id": "d4ce9069",
   "metadata": {},
   "outputs": [
    {
     "data": {
      "text/html": [
       "<div>\n",
       "<style scoped>\n",
       "    .dataframe tbody tr th:only-of-type {\n",
       "        vertical-align: middle;\n",
       "    }\n",
       "\n",
       "    .dataframe tbody tr th {\n",
       "        vertical-align: top;\n",
       "    }\n",
       "\n",
       "    .dataframe thead th {\n",
       "        text-align: right;\n",
       "    }\n",
       "</style>\n",
       "<table border=\"1\" class=\"dataframe\">\n",
       "  <thead>\n",
       "    <tr style=\"text-align: right;\">\n",
       "      <th></th>\n",
       "      <th>Title</th>\n",
       "      <th>Author</th>\n",
       "      <th>Publication Year</th>\n",
       "      <th>List Price</th>\n",
       "      <th>Sale Price</th>\n",
       "      <th>Condition</th>\n",
       "    </tr>\n",
       "  </thead>\n",
       "  <tbody>\n",
       "    <tr>\n",
       "      <th>0</th>\n",
       "      <td>The Lord of the Rings</td>\n",
       "      <td>Tolkien, J.R.R.</td>\n",
       "      <td>1992</td>\n",
       "      <td>7.99</td>\n",
       "      <td>2.69</td>\n",
       "      <td>like new</td>\n",
       "    </tr>\n",
       "    <tr>\n",
       "      <th>1</th>\n",
       "      <td>The Bible</td>\n",
       "      <td>International Bible Society</td>\n",
       "      <td>2003</td>\n",
       "      <td>7.50</td>\n",
       "      <td>2.49</td>\n",
       "      <td>like new</td>\n",
       "    </tr>\n",
       "    <tr>\n",
       "      <th>2</th>\n",
       "      <td>The Pillars of the Earth</td>\n",
       "      <td>Follett, Ken</td>\n",
       "      <td>2002</td>\n",
       "      <td>19.95</td>\n",
       "      <td>1.49</td>\n",
       "      <td>very good</td>\n",
       "    </tr>\n",
       "    <tr>\n",
       "      <th>3</th>\n",
       "      <td>Perfume: The Story of a Murderer</td>\n",
       "      <td>Süskind, Patrick</td>\n",
       "      <td>2003</td>\n",
       "      <td>19.95</td>\n",
       "      <td>1.29</td>\n",
       "      <td>very good</td>\n",
       "    </tr>\n",
       "    <tr>\n",
       "      <th>4</th>\n",
       "      <td>The Little Prince</td>\n",
       "      <td>Saint-Exupéry, Antoine de</td>\n",
       "      <td>2006</td>\n",
       "      <td>24.95</td>\n",
       "      <td>2.59</td>\n",
       "      <td>good</td>\n",
       "    </tr>\n",
       "    <tr>\n",
       "      <th>5</th>\n",
       "      <td>Buddenbrooks</td>\n",
       "      <td>Mann, Thomas</td>\n",
       "      <td>2001</td>\n",
       "      <td>7.99</td>\n",
       "      <td>1.99</td>\n",
       "      <td>very good</td>\n",
       "    </tr>\n",
       "    <tr>\n",
       "      <th>6</th>\n",
       "      <td>The Physician</td>\n",
       "      <td>Gordon, Noah</td>\n",
       "      <td>2003</td>\n",
       "      <td>25.95</td>\n",
       "      <td>1.29</td>\n",
       "      <td>like new</td>\n",
       "    </tr>\n",
       "  </tbody>\n",
       "</table>\n",
       "</div>"
      ],
      "text/plain": [
       "                              Title                       Author  \\\n",
       "0             The Lord of the Rings              Tolkien, J.R.R.   \n",
       "1                         The Bible  International Bible Society   \n",
       "2          The Pillars of the Earth                 Follett, Ken   \n",
       "3  Perfume: The Story of a Murderer             Süskind, Patrick   \n",
       "4                 The Little Prince    Saint-Exupéry, Antoine de   \n",
       "5                      Buddenbrooks                 Mann, Thomas   \n",
       "6                     The Physician                 Gordon, Noah   \n",
       "\n",
       "   Publication Year  List Price  Sale Price  Condition  \n",
       "0              1992        7.99        2.69   like new  \n",
       "1              2003        7.50        2.49   like new  \n",
       "2              2002       19.95        1.49  very good  \n",
       "3              2003       19.95        1.29  very good  \n",
       "4              2006       24.95        2.59       good  \n",
       "5              2001        7.99        1.99  very good  \n",
       "6              2003       25.95        1.29   like new  "
      ]
     },
     "metadata": {},
     "output_type": "display_data"
    }
   ],
   "source": [
    "display(df.head(7))"
   ]
  },
  {
   "cell_type": "markdown",
   "id": "cc8ec68e",
   "metadata": {},
   "source": [
    "WIHTIGE ECKDATEN"
   ]
  },
  {
   "cell_type": "markdown",
   "id": "7239c827",
   "metadata": {},
   "source": [
    "Wichtig ist es sich einen Überblick zu verschaffen was für Daten vorliegen. In unserem Fall haben wir eine Liste an gebrauchten Büchern mit Titel, Autor und anderen Eckdaten.\n",
    "\n",
    "Konventionell befinden sich in einem DataFrame in den Zeilen die einzelnen Datenpunkte, hier entspricht das jeweils einem gebrauchten Buch. Oft finden wir die Zeilen nummeriert vor, dies muss aber nicht immer der Fall sein. (index)\n",
    "\n",
    "Die Spalten stehen dementsprechend für eine spezielle Eigenschaft, bspw. den Verkaufspreis. Die Bezeichnung einer Eigenschaft finden wir als Beschriftung der entsprechenden Spalte vor. (columns)"
   ]
  },
  {
   "cell_type": "code",
   "execution_count": null,
   "id": "f57da771",
   "metadata": {},
   "outputs": [
    {
     "name": "stdout",
     "output_type": "stream",
     "text": [
      "(30, 6)\n"
     ]
    }
   ],
   "source": [
    "print(df.shape) # Größe des DataFrames, Zeilen, Spalten"
   ]
  },
  {
   "cell_type": "code",
   "execution_count": null,
   "id": "1d54cf00",
   "metadata": {},
   "outputs": [
    {
     "name": "stdout",
     "output_type": "stream",
     "text": [
      "RangeIndex(start=0, stop=30, step=1)\n"
     ]
    }
   ],
   "source": [
    "print(df.index) # indizes des dataframes"
   ]
  },
  {
   "cell_type": "code",
   "execution_count": null,
   "id": "d4db6495",
   "metadata": {},
   "outputs": [
    {
     "name": "stdout",
     "output_type": "stream",
     "text": [
      "Index(['Title', 'Author', 'Publication Year', 'List Price', 'Sale Price',\n",
      "       'Condition'],\n",
      "      dtype='object')\n"
     ]
    }
   ],
   "source": [
    "print(df.columns) # Colums, Überschrift des DataFrames"
   ]
  },
  {
   "cell_type": "markdown",
   "id": "fdc31749",
   "metadata": {},
   "source": [
    "df.shape gibt die Größe eines DataFrames aus. Die erste Zahl steht hierbei für die Zeilen- und die zweite für die Spaltenanzahl. Auf diese Zahlen lassen sich durch df.shape[0] und df.shape[1] zugreifen.\n",
    "\n",
    "df.index gibt alle Indizes eines DataFrames zurück. Die Rückgabe ist hierbei ähnlich zu der Funktion range(). Wir können hier sehen, dass der Index von 0 bis (nicht inklusive) 30 in 1er-Schritten läuft.\n",
    "\n",
    "df.columns gibt die Columns eines DataFrames zurück. Die Rückgabe ist hierbei ähnlich zu einer Liste, was bedeutet, dass man auch auf die selbe Weise auf einzelne Einträge zugegreifen oder verändern kann."
   ]
  }
 ],
 "metadata": {
  "kernelspec": {
   "display_name": "Python 3",
   "language": "python",
   "name": "python3"
  },
  "language_info": {
   "codemirror_mode": {
    "name": "ipython",
    "version": 3
   },
   "file_extension": ".py",
   "mimetype": "text/x-python",
   "name": "python",
   "nbconvert_exporter": "python",
   "pygments_lexer": "ipython3",
   "version": "3.13.3"
  }
 },
 "nbformat": 4,
 "nbformat_minor": 5
}
