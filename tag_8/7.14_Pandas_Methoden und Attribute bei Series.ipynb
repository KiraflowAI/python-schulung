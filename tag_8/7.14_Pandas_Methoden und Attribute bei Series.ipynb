{
 "cells": [
  {
   "cell_type": "markdown",
   "id": "af8195fd",
   "metadata": {},
   "source": []
  },
  {
   "cell_type": "markdown",
   "id": "b3c9096d",
   "metadata": {},
   "source": [
    "Im Folgenden liegt uns eine Bücherliste names bookstore als csv-Datei vor. Diese beinhaltet gebrauchte Bücher mit entsprechend dazu kennzeichnenden Eigenschaften.\n",
    "\n",
    "DataFrames und Series haben viele gemeinsame Methoden und Attribute. Bei einigen muss man jedoch wissen für welchen Datentyp sie zu nutzen sind.\n",
    "\n",
    "Bereits bekannte Attribute und Methoden sind:\n",
    "\n",
    "df.head() - Ausgabe der ersten Zeilen\n",
    "df.tail() - Ausgabe der letzten Zeilen\n",
    "df.index - Indezierung der Zeilen\n",
    "df.columns - Spaltennamen\n",
    "df.shape - Größe des DataFrames\n",
    "Eine dieser Methoden oder ein eines dieser Attribute existiert allerdings nur bei DataFrames, nicht bei Series.\n",
    "\n",
    "Mache dir im Vorfeld Gedanken welches es \"logischerweise\" nicht bei Series geben dürfte und warum. Teste es im Anschluss aus:"
   ]
  },
  {
   "cell_type": "markdown",
   "id": "4f7c7764",
   "metadata": {},
   "source": [
    "import pandas as pd\n",
    "\n",
    "df = pd.read_csv(\"bookstore.csv\")\n",
    "\n",
    "# Auswahl der ersten Spalte (Datentyp: Series)\n",
    "# Hinweis: Die Methode loc[,] wird im nächsten Abschnitt behandelt. An der Stelle reicht es zu wissen, das \"series\" jetzt die erste Spalte beinhaltet.\n",
    "series = df.loc[:,\"Title\"]\n",
    "\n",
    "# Austesten aller Methoden und Attribute\n",
    "\n"
   ]
  },
  {
   "cell_type": "markdown",
   "id": "9de5f9ef",
   "metadata": {},
   "source": [
    "Series haben kein Attribut series.columns. Sie werden immer als Spalten dargestellt und gespeichert, wodurch die Bezeichnung überflüssig ist.\n",
    "\n",
    "Alle anderen Methoden und Attribute machen und beinhalten das selbe wie bei DataFrames:\n",
    "\n",
    "series.head() - Ausgabe der ersten Zeilen\n",
    "series.tail() - Ausgabe der letzten Zeilen\n",
    "series.index - Indezierung der Zeilen\n",
    "series.shape - Größe der Series (Hier kein 2-er Tupel, sondern ein 1-er Tupel)"
   ]
  },
  {
   "cell_type": "code",
   "execution_count": 1,
   "id": "dfa508d7",
   "metadata": {},
   "outputs": [],
   "source": [
    "import pandas as pd"
   ]
  },
  {
   "cell_type": "code",
   "execution_count": 2,
   "id": "55d8746e",
   "metadata": {},
   "outputs": [],
   "source": [
    "df = pd.read_csv('bookstore.csv')"
   ]
  },
  {
   "cell_type": "code",
   "execution_count": null,
   "id": "f902e52b",
   "metadata": {},
   "outputs": [],
   "source": [
    "series = df.loc[:,'Title'] # Auswahö der erdten Spalte (Datntyp:Series)"
   ]
  },
  {
   "cell_type": "code",
   "execution_count": 5,
   "id": "2dc39cee",
   "metadata": {},
   "outputs": [
    {
     "data": {
      "text/plain": [
       "0                         The Lord of the Rings\n",
       "1                                     The Bible\n",
       "2                      The Pillars of the Earth\n",
       "3              Perfume: The Story of a Murderer\n",
       "4                             The Little Prince\n",
       "5                                  Buddenbrooks\n",
       "6                                 The Physician\n",
       "7                                 The Alchemist\n",
       "8         Harry Potter and the Sorcerer’s Stone\n",
       "9                                     Pope Joan\n",
       "10                                     Inkheart\n",
       "11                                    Outlander\n",
       "12                     The House of the Spirits\n",
       "13                                   The Reader\n",
       "14                                        Faust\n",
       "15                       The Shadow of the Wind\n",
       "16                          Pride and Prejudice\n",
       "17                         The Name of the Rose\n",
       "18                              Angels & Demons\n",
       "19                                  Effi Briest\n",
       "20    Harry Potter and the Order of the Phoenix\n",
       "21                           The Magic Mountain\n",
       "22                           Gone with the Wind\n",
       "23                                   Siddhartha\n",
       "24                      The Discovery of Heaven\n",
       "25                        The Neverending Story\n",
       "26                              The Hidden Word\n",
       "27                               Angela’s Ashes\n",
       "28                       Narcissus and Goldmund\n",
       "29                          The Mists of Avalon\n",
       "Name: Title, dtype: object"
      ]
     },
     "execution_count": 5,
     "metadata": {},
     "output_type": "execute_result"
    }
   ],
   "source": [
    "series"
   ]
  },
  {
   "cell_type": "code",
   "execution_count": null,
   "id": "26c52923",
   "metadata": {},
   "outputs": [
    {
     "data": {
      "text/plain": [
       "(30,)"
      ]
     },
     "execution_count": 10,
     "metadata": {},
     "output_type": "execute_result"
    }
   ],
   "source": [
    "series.shape  #30 zeilen . wenn wir ein tupel haben dass nur einen eintrag hat wird ein komma ausgeben "
   ]
  },
  {
   "cell_type": "code",
   "execution_count": 11,
   "id": "90aa2eec",
   "metadata": {},
   "outputs": [
    {
     "data": {
      "text/plain": [
       "RangeIndex(start=0, stop=30, step=1)"
      ]
     },
     "execution_count": 11,
     "metadata": {},
     "output_type": "execute_result"
    }
   ],
   "source": [
    "series.index"
   ]
  },
  {
   "cell_type": "code",
   "execution_count": null,
   "id": "28f7fbc0",
   "metadata": {},
   "outputs": [
    {
     "ename": "AttributeError",
     "evalue": "'Series' object has no attribute 'columns'",
     "output_type": "error",
     "traceback": [
      "\u001b[31m---------------------------------------------------------------------------\u001b[39m",
      "\u001b[31mAttributeError\u001b[39m                            Traceback (most recent call last)",
      "\u001b[32m/var/folders/l8/cgzy5d692sd7d5_rw1hslkmw0000gn/T/ipykernel_21631/136159008.py\u001b[39m in \u001b[36m?\u001b[39m\u001b[34m()\u001b[39m\n\u001b[32m----> \u001b[39m\u001b[32m1\u001b[39m series.columns\n",
      "\u001b[32m/Library/Frameworks/Python.framework/Versions/3.13/lib/python3.13/site-packages/pandas/core/generic.py\u001b[39m in \u001b[36m?\u001b[39m\u001b[34m(self, name)\u001b[39m\n\u001b[32m   6295\u001b[39m             \u001b[38;5;28;01mand\u001b[39;00m name \u001b[38;5;28;01mnot\u001b[39;00m \u001b[38;5;28;01min\u001b[39;00m self._accessors\n\u001b[32m   6296\u001b[39m             \u001b[38;5;28;01mand\u001b[39;00m self._info_axis._can_hold_identifiers_and_holds_name(name)\n\u001b[32m   6297\u001b[39m         ):\n\u001b[32m   6298\u001b[39m             \u001b[38;5;28;01mreturn\u001b[39;00m self[name]\n\u001b[32m-> \u001b[39m\u001b[32m6299\u001b[39m         \u001b[38;5;28;01mreturn\u001b[39;00m object.__getattribute__(self, name)\n",
      "\u001b[31mAttributeError\u001b[39m: 'Series' object has no attribute 'columns'"
     ]
    }
   ],
   "source": [
    "series.columns # macht kein sinn"
   ]
  },
  {
   "cell_type": "code",
   "execution_count": 13,
   "id": "72d4a326",
   "metadata": {},
   "outputs": [
    {
     "data": {
      "text/plain": [
       "<bound method NDFrame.head of 0                         The Lord of the Rings\n",
       "1                                     The Bible\n",
       "2                      The Pillars of the Earth\n",
       "3              Perfume: The Story of a Murderer\n",
       "4                             The Little Prince\n",
       "5                                  Buddenbrooks\n",
       "6                                 The Physician\n",
       "7                                 The Alchemist\n",
       "8         Harry Potter and the Sorcerer’s Stone\n",
       "9                                     Pope Joan\n",
       "10                                     Inkheart\n",
       "11                                    Outlander\n",
       "12                     The House of the Spirits\n",
       "13                                   The Reader\n",
       "14                                        Faust\n",
       "15                       The Shadow of the Wind\n",
       "16                          Pride and Prejudice\n",
       "17                         The Name of the Rose\n",
       "18                              Angels & Demons\n",
       "19                                  Effi Briest\n",
       "20    Harry Potter and the Order of the Phoenix\n",
       "21                           The Magic Mountain\n",
       "22                           Gone with the Wind\n",
       "23                                   Siddhartha\n",
       "24                      The Discovery of Heaven\n",
       "25                        The Neverending Story\n",
       "26                              The Hidden Word\n",
       "27                               Angela’s Ashes\n",
       "28                       Narcissus and Goldmund\n",
       "29                          The Mists of Avalon\n",
       "Name: Title, dtype: object>"
      ]
     },
     "execution_count": 13,
     "metadata": {},
     "output_type": "execute_result"
    }
   ],
   "source": [
    "series.head"
   ]
  },
  {
   "cell_type": "code",
   "execution_count": 14,
   "id": "68575dcf",
   "metadata": {},
   "outputs": [
    {
     "data": {
      "text/plain": [
       "25     The Neverending Story\n",
       "26           The Hidden Word\n",
       "27            Angela’s Ashes\n",
       "28    Narcissus and Goldmund\n",
       "29       The Mists of Avalon\n",
       "Name: Title, dtype: object"
      ]
     },
     "execution_count": 14,
     "metadata": {},
     "output_type": "execute_result"
    }
   ],
   "source": [
    "series.tail()"
   ]
  },
  {
   "cell_type": "code",
   "execution_count": 6,
   "id": "7566dbf2",
   "metadata": {},
   "outputs": [
    {
     "data": {
      "text/plain": [
       "pandas.core.series.Series"
      ]
     },
     "execution_count": 6,
     "metadata": {},
     "output_type": "execute_result"
    }
   ],
   "source": [
    "type(series)"
   ]
  },
  {
   "cell_type": "code",
   "execution_count": 4,
   "id": "6a26e92c",
   "metadata": {},
   "outputs": [
    {
     "ename": "AttributeError",
     "evalue": "'Series' object has no attribute 'columns'",
     "output_type": "error",
     "traceback": [
      "\u001b[31m---------------------------------------------------------------------------\u001b[39m",
      "\u001b[31mAttributeError\u001b[39m                            Traceback (most recent call last)",
      "\u001b[32m/var/folders/l8/cgzy5d692sd7d5_rw1hslkmw0000gn/T/ipykernel_21631/3023416007.py\u001b[39m in \u001b[36m?\u001b[39m\u001b[34m()\u001b[39m\n\u001b[32m----> \u001b[39m\u001b[32m1\u001b[39m print(series.columns)\n",
      "\u001b[32m/Library/Frameworks/Python.framework/Versions/3.13/lib/python3.13/site-packages/pandas/core/generic.py\u001b[39m in \u001b[36m?\u001b[39m\u001b[34m(self, name)\u001b[39m\n\u001b[32m   6295\u001b[39m             \u001b[38;5;28;01mand\u001b[39;00m name \u001b[38;5;28;01mnot\u001b[39;00m \u001b[38;5;28;01min\u001b[39;00m self._accessors\n\u001b[32m   6296\u001b[39m             \u001b[38;5;28;01mand\u001b[39;00m self._info_axis._can_hold_identifiers_and_holds_name(name)\n\u001b[32m   6297\u001b[39m         ):\n\u001b[32m   6298\u001b[39m             \u001b[38;5;28;01mreturn\u001b[39;00m self[name]\n\u001b[32m-> \u001b[39m\u001b[32m6299\u001b[39m         \u001b[38;5;28;01mreturn\u001b[39;00m object.__getattribute__(self, name)\n",
      "\u001b[31mAttributeError\u001b[39m: 'Series' object has no attribute 'columns'"
     ]
    }
   ],
   "source": [
    "print(series.columns)"
   ]
  }
 ],
 "metadata": {
  "kernelspec": {
   "display_name": "Python 3",
   "language": "python",
   "name": "python3"
  },
  "language_info": {
   "codemirror_mode": {
    "name": "ipython",
    "version": 3
   },
   "file_extension": ".py",
   "mimetype": "text/x-python",
   "name": "python",
   "nbconvert_exporter": "python",
   "pygments_lexer": "ipython3",
   "version": "3.13.3"
  }
 },
 "nbformat": 4,
 "nbformat_minor": 5
}
