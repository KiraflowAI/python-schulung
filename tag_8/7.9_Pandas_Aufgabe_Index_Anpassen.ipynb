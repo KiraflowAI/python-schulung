{
 "cells": [
  {
   "cell_type": "code",
   "execution_count": 2,
   "id": "2dd096fa",
   "metadata": {},
   "outputs": [],
   "source": [
    "import pandas as pd"
   ]
  },
  {
   "cell_type": "code",
   "execution_count": 3,
   "id": "c7d4327d",
   "metadata": {},
   "outputs": [],
   "source": [
    "df = pd.read_csv('bookstore.csv')"
   ]
  },
  {
   "cell_type": "code",
   "execution_count": 5,
   "id": "7c3352ac",
   "metadata": {},
   "outputs": [
    {
     "name": "stdout",
     "output_type": "stream",
     "text": [
      "Collecting openpyxl\n",
      "  Downloading openpyxl-3.1.5-py2.py3-none-any.whl.metadata (2.5 kB)\n",
      "Collecting et-xmlfile (from openpyxl)\n",
      "  Downloading et_xmlfile-2.0.0-py3-none-any.whl.metadata (2.7 kB)\n",
      "Downloading openpyxl-3.1.5-py2.py3-none-any.whl (250 kB)\n",
      "Downloading et_xmlfile-2.0.0-py3-none-any.whl (18 kB)\n",
      "Installing collected packages: et-xmlfile, openpyxl\n",
      "Successfully installed et-xmlfile-2.0.0 openpyxl-3.1.5\n",
      "\n",
      "\u001b[1m[\u001b[0m\u001b[34;49mnotice\u001b[0m\u001b[1;39;49m]\u001b[0m\u001b[39;49m A new release of pip is available: \u001b[0m\u001b[31;49m25.0.1\u001b[0m\u001b[39;49m -> \u001b[0m\u001b[32;49m25.1.1\u001b[0m\n",
      "\u001b[1m[\u001b[0m\u001b[34;49mnotice\u001b[0m\u001b[1;39;49m]\u001b[0m\u001b[39;49m To update, run: \u001b[0m\u001b[32;49mpip3 install --upgrade pip\u001b[0m\n",
      "Note: you may need to restart the kernel to use updated packages.\n"
     ]
    }
   ],
   "source": [
    "pip install openpyxl"
   ]
  },
  {
   "cell_type": "code",
   "execution_count": 6,
   "id": "1ae6286a",
   "metadata": {},
   "outputs": [],
   "source": [
    "import pandas as pd"
   ]
  },
  {
   "cell_type": "code",
   "execution_count": 8,
   "id": "bb583ca8",
   "metadata": {},
   "outputs": [],
   "source": [
    "df = pd.read_excel('bookstore.xlsx')"
   ]
  },
  {
   "cell_type": "code",
   "execution_count": 9,
   "id": "57ed7e28",
   "metadata": {},
   "outputs": [
    {
     "data": {
      "text/html": [
       "<div>\n",
       "<style scoped>\n",
       "    .dataframe tbody tr th:only-of-type {\n",
       "        vertical-align: middle;\n",
       "    }\n",
       "\n",
       "    .dataframe tbody tr th {\n",
       "        vertical-align: top;\n",
       "    }\n",
       "\n",
       "    .dataframe thead th {\n",
       "        text-align: right;\n",
       "    }\n",
       "</style>\n",
       "<table border=\"1\" class=\"dataframe\">\n",
       "  <thead>\n",
       "    <tr style=\"text-align: right;\">\n",
       "      <th></th>\n",
       "      <th>Author</th>\n",
       "      <th>Publication Year</th>\n",
       "      <th>List Price</th>\n",
       "      <th>Sale Price</th>\n",
       "      <th>Condition</th>\n",
       "    </tr>\n",
       "    <tr>\n",
       "      <th>Title</th>\n",
       "      <th></th>\n",
       "      <th></th>\n",
       "      <th></th>\n",
       "      <th></th>\n",
       "      <th></th>\n",
       "    </tr>\n",
       "  </thead>\n",
       "  <tbody>\n",
       "    <tr>\n",
       "      <th>The Lord of the Rings</th>\n",
       "      <td>Tolkien, J.R.R.</td>\n",
       "      <td>1992</td>\n",
       "      <td>7.99</td>\n",
       "      <td>2.69</td>\n",
       "      <td>like new</td>\n",
       "    </tr>\n",
       "    <tr>\n",
       "      <th>The Bible</th>\n",
       "      <td>International Bible Society</td>\n",
       "      <td>2003</td>\n",
       "      <td>7.50</td>\n",
       "      <td>2.49</td>\n",
       "      <td>like new</td>\n",
       "    </tr>\n",
       "    <tr>\n",
       "      <th>The Pillars of the Earth</th>\n",
       "      <td>Follett, Ken</td>\n",
       "      <td>2002</td>\n",
       "      <td>19.95</td>\n",
       "      <td>1.49</td>\n",
       "      <td>very good</td>\n",
       "    </tr>\n",
       "    <tr>\n",
       "      <th>Perfume: The Story of a Murderer</th>\n",
       "      <td>Süskind, Patrick</td>\n",
       "      <td>2003</td>\n",
       "      <td>19.95</td>\n",
       "      <td>1.29</td>\n",
       "      <td>very good</td>\n",
       "    </tr>\n",
       "    <tr>\n",
       "      <th>The Little Prince</th>\n",
       "      <td>Saint-Exupéry, Antoine de</td>\n",
       "      <td>2006</td>\n",
       "      <td>24.95</td>\n",
       "      <td>2.59</td>\n",
       "      <td>good</td>\n",
       "    </tr>\n",
       "  </tbody>\n",
       "</table>\n",
       "</div>"
      ],
      "text/plain": [
       "                                                       Author  \\\n",
       "Title                                                           \n",
       "The Lord of the Rings                         Tolkien, J.R.R.   \n",
       "The Bible                         International Bible Society   \n",
       "The Pillars of the Earth                         Follett, Ken   \n",
       "Perfume: The Story of a Murderer             Süskind, Patrick   \n",
       "The Little Prince                   Saint-Exupéry, Antoine de   \n",
       "\n",
       "                                  Publication Year  List Price  Sale Price  \\\n",
       "Title                                                                        \n",
       "The Lord of the Rings                         1992        7.99        2.69   \n",
       "The Bible                                     2003        7.50        2.49   \n",
       "The Pillars of the Earth                      2002       19.95        1.49   \n",
       "Perfume: The Story of a Murderer              2003       19.95        1.29   \n",
       "The Little Prince                             2006       24.95        2.59   \n",
       "\n",
       "                                  Condition  \n",
       "Title                                        \n",
       "The Lord of the Rings              like new  \n",
       "The Bible                          like new  \n",
       "The Pillars of the Earth          very good  \n",
       "Perfume: The Story of a Murderer  very good  \n",
       "The Little Prince                      good  "
      ]
     },
     "execution_count": 9,
     "metadata": {},
     "output_type": "execute_result"
    }
   ],
   "source": [
    "df = pd.read_csv('bookstore.csv', index_col='Title')\n",
    "df.head()"
   ]
  }
 ],
 "metadata": {
  "kernelspec": {
   "display_name": "Python 3",
   "language": "python",
   "name": "python3"
  },
  "language_info": {
   "codemirror_mode": {
    "name": "ipython",
    "version": 3
   },
   "file_extension": ".py",
   "mimetype": "text/x-python",
   "name": "python",
   "nbconvert_exporter": "python",
   "pygments_lexer": "ipython3",
   "version": "3.13.3"
  }
 },
 "nbformat": 4,
 "nbformat_minor": 5
}
